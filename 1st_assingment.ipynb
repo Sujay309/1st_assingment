{
 "cells": [
  {
   "cell_type": "markdown",
   "metadata": {},
   "source": [
    "1st day assingment "
   ]
  },
  {
   "cell_type": "code",
   "execution_count": 1,
   "metadata": {},
   "outputs": [
    {
     "name": "stdout",
     "output_type": "stream",
     "text": [
      "yajus\n"
     ]
    }
   ],
   "source": [
    "#Write a code to reverse a string\n",
    "def reveese_string (string):\n",
    "    return string[::-1]\n",
    "print(reveese_string(\"sujay\"))"
   ]
  },
  {
   "cell_type": "code",
   "execution_count": 2,
   "metadata": {},
   "outputs": [
    {
     "name": "stdout",
     "output_type": "stream",
     "text": [
      "4\n"
     ]
    }
   ],
   "source": [
    "#Write a code to count the number of vowels in a string\n",
    "string = \"sujaymanna\"\n",
    "vowels = \"aeiouAEIOU\"\n",
    " \n",
    "count = sum(string.count(vowel) for vowel in vowels)\n",
    "print(count)"
   ]
  },
  {
   "cell_type": "code",
   "execution_count": 3,
   "metadata": {},
   "outputs": [
    {
     "name": "stdout",
     "output_type": "stream",
     "text": [
      "No\n"
     ]
    }
   ],
   "source": [
    "#Write a code to check if a given string is a palindrome or not\n",
    "def isPalindrome(s):\n",
    "    return s == s[::-1]\n",
    "# Driver code\n",
    "s = \"sujaymanna\"\n",
    "ans = isPalindrome(s)\n",
    " \n",
    "if ans:\n",
    "    print(\"Yes\")\n",
    "else:\n",
    "    print(\"No\")"
   ]
  },
  {
   "cell_type": "code",
   "execution_count": 4,
   "metadata": {},
   "outputs": [
    {
     "name": "stdout",
     "output_type": "stream",
     "text": [
      "The strings are anagrams.\n"
     ]
    }
   ],
   "source": [
    "#Write a code to check if two given strings are anagrams of each other\n",
    "# anagram or not \n",
    "def check(s1, s2):\n",
    "     \n",
    "    # the sorted strings are checked \n",
    "    if(sorted(s1)== sorted(s2)):\n",
    "        print(\"The strings are anagrams.\") \n",
    "    else:\n",
    "        print(\"The strings aren't anagrams.\")         \n",
    "         \n",
    "# driver code  \n",
    "s1 =\"listen\"\n",
    "s2 =\"silent\"\n",
    "check(s1, s2)"
   ]
  },
  {
   "cell_type": "code",
   "execution_count": 5,
   "metadata": {},
   "outputs": [
    {
     "name": "stdout",
     "output_type": "stream",
     "text": [
      "The original string is : sujay is a good boy\n",
      "The substring to find : boy\n",
      "The start indices of the substrings are : [16]\n"
     ]
    }
   ],
   "source": [
    "# Write a code to find all occurrences of a given substring within another string\n",
    "test_str = \"sujay is a good boy\"\n",
    "\n",
    "# initializing substring \n",
    "test_sub = \"boy\"\n",
    "\n",
    "# printing original string \n",
    "print(\"The original string is : \" + test_str) \n",
    "\n",
    "# printing substring \n",
    "print(\"The substring to find : \" + test_sub) \n",
    "\n",
    "# using list comprehension + startswith() \n",
    "# All occurrences of substring in string \n",
    "res = [i for i in range(len(test_str)) if test_str.startswith(test_sub, i)] \n",
    "\n",
    "# printing result \n",
    "print(\"The start indices of the substrings are : \" + str(res)) \n"
   ]
  },
  {
   "cell_type": "code",
   "execution_count": 6,
   "metadata": {},
   "outputs": [
    {
     "name": "stdout",
     "output_type": "stream",
     "text": [
      "ab3a6c2da3b\n"
     ]
    }
   ],
   "source": [
    "# Write a code to perform basic string compression using the counts of repeated characters\n",
    "def solve(s):\n",
    "   res = \"\"\n",
    "   cnt = 1\n",
    "   for i in range(1, len(s)):\n",
    "      if s[i - 1] == s[i]:\n",
    "         cnt += 1\n",
    "      else:\n",
    "         res = res + s[i - 1]\n",
    "         if cnt > 1:\n",
    "            res += str(cnt)\n",
    "         cnt = 1\n",
    "   res = res + s[-1]\n",
    "   if cnt > 1:\n",
    "      res += str(cnt)\n",
    "   return res\n",
    "\n",
    "s = \"abbbaaaaaaccdaaab\"\n",
    "print(solve(s))"
   ]
  },
  {
   "cell_type": "code",
   "execution_count": 7,
   "metadata": {},
   "outputs": [
    {
     "name": "stdout",
     "output_type": "stream",
     "text": [
      "True\n"
     ]
    }
   ],
   "source": [
    "# Write a code to determine if a string has all unique characters\n",
    "def isUniqueChars(st):\n",
    "\n",
    "\t# String length cannot be more than\n",
    "\t# 256.\n",
    "\tif len(st) > 256:\n",
    "\t\treturn False\n",
    "\n",
    "\t# Initialize occurrences of all characters\n",
    "\tchar_set = [False] * 128\n",
    "\n",
    "\t# For every character, check if it exists\n",
    "\t# in char_set\n",
    "\tfor i in range(0, len(st)):\n",
    "\n",
    "\t\t# Find ASCII value and check if it\n",
    "\t\t# exists in set.\n",
    "\t\tval = ord(st[i])\n",
    "\t\tif char_set[val]:\n",
    "\t\t\treturn False\n",
    "\n",
    "\t\tchar_set[val] = True\n",
    "\n",
    "\treturn True\n",
    "\n",
    "# driver code\n",
    "st = \"abcd\"\n",
    "print(isUniqueChars(st))\n"
   ]
  },
  {
   "cell_type": "code",
   "execution_count": 8,
   "metadata": {},
   "outputs": [
    {
     "name": "stdout",
     "output_type": "stream",
     "text": [
      "In original String : \n",
      "Uppercase - 10\n",
      "Lowercase - 52\n",
      "Spaces - 13\n",
      "After changing cases:\n",
      "pw skill are BASE PLATFROM IN INDIA FOR LEARN CODINGG AND GROWW YOUR SKILLS\n"
     ]
    }
   ],
   "source": [
    "#Write a code to convert a given string to uppercase or lowercase\n",
    "\n",
    "string = 'PW SKILL ARE base platfrom in india for learn codingg and groww your skills'\n",
    "newstring = '' \n",
    "count1 = 0\n",
    "count2 = 0\n",
    "count3 = 0\n",
    "  \n",
    "for a in string: \n",
    "    # converting to uppercase. \n",
    "    if (a.isupper()) == True: \n",
    "        count1 += 1\n",
    "        newstring += (a.lower()) \n",
    "    # converting to lowercase. \n",
    "    elif (a.islower()) == True: \n",
    "        count2 += 1\n",
    "        newstring += (a.upper()) \n",
    "  \n",
    "    # adding it to the new string as it is. \n",
    "    elif (a.isspace()) == True: \n",
    "        count3 += 1\n",
    "        newstring += a \n",
    "print(\"In original String : \") \n",
    "print(\"Uppercase -\", count1) \n",
    "print(\"Lowercase -\", count2) \n",
    "print(\"Spaces -\", count3) \n",
    "print(\"After changing cases:\") \n",
    "print(newstring)"
   ]
  },
  {
   "cell_type": "code",
   "execution_count": 9,
   "metadata": {},
   "outputs": [
    {
     "name": "stdout",
     "output_type": "stream",
     "text": [
      "The original string is : i am sujay manna and my next 5 year goal is to become a business analyst\n",
      "The number of words in string are : 16\n"
     ]
    }
   ],
   "source": [
    "# Write a code to count the number of words in a string\n",
    "# initializing string \n",
    "test_string = \"i am sujay manna and my next 5 year goal is to become a business analyst\"\n",
    "\n",
    "# printing original string\n",
    "print (\"The original string is : \" + test_string)\n",
    "\n",
    "# using split()\n",
    "# to count words in string\n",
    "res = len(test_string.split())\n",
    "\n",
    "# printing result\n",
    "print (\"The number of words in string are : \" + str(res))\n"
   ]
  },
  {
   "cell_type": "code",
   "execution_count": 10,
   "metadata": {},
   "outputs": [
    {
     "name": "stdout",
     "output_type": "stream",
     "text": [
      "sujay manna\n"
     ]
    }
   ],
   "source": [
    "#Write a code to concatenate two strings without using the + operator\n",
    "a=\"sujay\"\n",
    "b=\"manna\"\n",
    "print(a,b)"
   ]
  },
  {
   "cell_type": "code",
   "execution_count": 11,
   "metadata": {},
   "outputs": [
    {
     "name": "stdout",
     "output_type": "stream",
     "text": [
      "The original list is :[1, 3, 4, 6, 5, 1]\n",
      "The list after performing the remove operation is :[3, 4, 6, 5]\n"
     ]
    }
   ],
   "source": [
    "#Write a code to remove all occurrences of a specific element from a list\n",
    "def remove_items(test_list, item): \n",
    "\t# remove the item for all its occurrences \n",
    "\tc = test_list.count(item) \n",
    "\tfor i in range(c): \n",
    "\t\ttest_list.remove(item) \n",
    "\treturn test_list \n",
    "\t\n",
    "# driver code \n",
    "if __name__ == \"__main__\": \n",
    "\ttest_list = [1, 3, 4, 6, 5, 1] \n",
    "\titem = 1\n",
    "\t# printing the original list \n",
    "\tprint(\"The original list is :\" + str(test_list)) \n",
    "\n",
    "\t# calling the function remove_items() \n",
    "\tres = remove_items(test_list, item) \n",
    "\n",
    "\t# printing result \n",
    "\tprint(\"The list after performing the remove operation is :\" + str(res)) \n"
   ]
  },
  {
   "cell_type": "code",
   "execution_count": 12,
   "metadata": {},
   "outputs": [
    {
     "name": "stdout",
     "output_type": "stream",
     "text": [
      "second largest number is :  99\n"
     ]
    }
   ],
   "source": [
    "# Implement a code to find the second largest number in a given list of integers\n",
    "list1 = [10, 20, 4, 45, 99,101]\n",
    "\n",
    "mx = max(list1[0], list1[1]) \n",
    "secondmax = min(list1[0], list1[1]) \n",
    "n = len(list1)\n",
    "for i in range(2,n): \n",
    "\tif list1[i] > mx: \n",
    "\t\tsecondmax = mx\n",
    "\t\tmx = list1[i] \n",
    "\telif list1[i] > secondmax and \\\n",
    "\t\tmx != list1[i]: \n",
    "\t\tsecondmax = list1[i]\n",
    "\telif mx == secondmax and \\\n",
    "\t\tsecondmax != list1[i]:\n",
    "\t\tsecondmax = list1[i]\n",
    "\n",
    "print(\"second largest number is : \",\\\n",
    "\tstr(secondmax))\n"
   ]
  },
  {
   "cell_type": "code",
   "execution_count": 13,
   "metadata": {},
   "outputs": [
    {
     "name": "stdout",
     "output_type": "stream",
     "text": [
      "8 has occurred 5 times\n"
     ]
    }
   ],
   "source": [
    "#Create a code to count the occurrences of each element in a list and return a dictionary with elements as keys and their counts as values\n",
    "\n",
    "def countX(lst, x):\n",
    "\tcount = 0\n",
    "\tfor ele in lst:\n",
    "\t\tif (ele == x):\n",
    "\t\t\tcount = count + 1\n",
    "\treturn count\n",
    "\n",
    "\n",
    "# Driver Code\n",
    "lst = [8, 6, 8, 10, 8, 20, 10, 8, 8]\n",
    "x = 8\n",
    "print('{} has occurred {} times'.format(x,\n",
    "\t\t\t\t\t\t\t\t\t\tcountX(lst, x)))\n"
   ]
  },
  {
   "cell_type": "code",
   "execution_count": 14,
   "metadata": {},
   "outputs": [
    {
     "name": "stdout",
     "output_type": "stream",
     "text": [
      "[7, 6, 5, 4, 3, 2, 1]\n"
     ]
    }
   ],
   "source": [
    "#Write a code to reverse a list in-place without using any built-in reverse functions\n",
    "# Reversing a list using two-pointer approach\n",
    "def reverse_list(arr):\n",
    "\tleft = 0\n",
    "\tright = len(arr)-1\n",
    "\twhile (left < right):\n",
    "\t\t# Swap\n",
    "\t\ttemp = arr[left]\n",
    "\t\tarr[left] = arr[right]\n",
    "\t\tarr[right] = temp\n",
    "\t\tleft += 1\n",
    "\t\tright -= 1\n",
    "\n",
    "\treturn arr\n",
    "\n",
    "arr = [1, 2, 3, 4, 5, 6, 7]\n",
    "print(reverse_list(arr))\n",
    "\n"
   ]
  },
  {
   "cell_type": "code",
   "execution_count": 15,
   "metadata": {},
   "outputs": [
    {
     "name": "stdout",
     "output_type": "stream",
     "text": [
      "The original list is : [1, 5, 3, 6, 3, 5, 6, 1]\n",
      "The list after removing duplicates : [1, 3, 5, 6]\n"
     ]
    }
   ],
   "source": [
    "# Implement a code to find and remove duplicates from a list while preserving the original order of elements\n",
    "test_list = [1, 5, 3, 6, 3, 5, 6, 1]\n",
    "print (\"The original list is : \"\n",
    "\t\t+ str(test_list))\n",
    "\n",
    "# using set() to remove duplicated from list\n",
    "test_list = list(set(test_list))\n",
    "\n",
    "# printing list after removal\n",
    "# distorted ordering\n",
    "print (\"The list after removing duplicates : \"\n",
    "\t\t+ str(test_list))\n"
   ]
  },
  {
   "cell_type": "code",
   "execution_count": 16,
   "metadata": {},
   "outputs": [
    {
     "name": "stdout",
     "output_type": "stream",
     "text": [
      "Original list : [10, 4, 5, 8, 10]\n",
      "No, List is not sorted.\n"
     ]
    }
   ],
   "source": [
    "# Create a code to check if a given list is sorted (either in ascending or descending order) or not\n",
    "test_list = [10, 4, 5, 8, 10]\n",
    "# printing original list \n",
    "print (\"Original list : \" + str(test_list))\n",
    "\n",
    "# using sort() to \n",
    "# check sorted list \n",
    "flag = 0\n",
    "test_list1 = test_list[:]\n",
    "test_list1.sort()\n",
    "if (test_list1 == test_list):\n",
    "\tflag = 1\n",
    "\t\n",
    "# printing result\n",
    "if (flag) :\n",
    "\tprint (\"Yes, List is sorted.\")\n",
    "else :\n",
    "\tprint (\"No, List is not sorted.\")\n"
   ]
  },
  {
   "cell_type": "code",
   "execution_count": 17,
   "metadata": {},
   "outputs": [
    {
     "name": "stdout",
     "output_type": "stream",
     "text": [
      "[1, 2, 3, 4, 5, 6, 7, 8, 9, 10]\n"
     ]
    }
   ],
   "source": [
    "# Write a code to merge two sorted lists into a single sorted list \n",
    "l1=[1,3,5,7,9]\n",
    "l2=[2,4,6,8,10]\n",
    "marge_list = l1 + l2\n",
    "marge_list.sort()\n",
    "print(marge_list)"
   ]
  },
  {
   "cell_type": "code",
   "execution_count": 18,
   "metadata": {},
   "outputs": [
    {
     "name": "stdout",
     "output_type": "stream",
     "text": [
      "[90, 11, 58, 31, 66, 28, 54]\n"
     ]
    }
   ],
   "source": [
    "# Implement a code to find the intersection of two given lists\n",
    "def intersection_list(list1, list2):  \n",
    "   list3 = [value for value in list1 if value in list2]  \n",
    "   return list3  \n",
    "  \n",
    "# Driver Code  \n",
    "list1 = [40, 90, 11, 58, 31, 66, 28, 54, 79]  \n",
    "list2 = [58, 90, 54, 31, 45, 11, 66, 28, 26]  \n",
    "print(intersection_list(list1, list2))"
   ]
  },
  {
   "cell_type": "code",
   "execution_count": 19,
   "metadata": {},
   "outputs": [
    {
     "name": "stdout",
     "output_type": "stream",
     "text": [
      "[23, 15, 2, 14, 14, 16, 20, 52, 2, 48, 15, 12, 26, 32, 47, 54]\n"
     ]
    }
   ],
   "source": [
    "#Create a code to find the union of two lists without duplicates \n",
    "# Maintained repetition \n",
    "def Union(lst1, lst2):\n",
    "\tfinal_list = lst1 + lst2\n",
    "\treturn final_list\n",
    "\n",
    "# Driver Code\n",
    "lst1 = [23, 15, 2, 14, 14, 16, 20 ,52]\n",
    "lst2 = [2, 48, 15, 12, 26, 32, 47, 54]\n",
    "print(Union(lst1, lst2))\n"
   ]
  },
  {
   "cell_type": "code",
   "execution_count": 20,
   "metadata": {},
   "outputs": [
    {
     "name": "stdout",
     "output_type": "stream",
     "text": [
      "Original list: [1, 2, 3, 4, 5]\n",
      "Shuffled list: [1, 4, 2, 3, 5]\n"
     ]
    }
   ],
   "source": [
    "# Write a code to shuffle a given list randomly without using any built-in shuffle functions\n",
    "import random\n",
    "\n",
    "def shuffle(list1):\n",
    "    for i in range(len(list1)):\n",
    "        j = random.randint(0, len(list1) - 1)\n",
    "        list1[i], list1[j] = list1[j], list1[i]\n",
    "\n",
    "    return list1\n",
    "\n",
    "# Driver code\n",
    "list1 = [1, 2, 3, 4, 5]\n",
    "print(\"Original list:\", list1)\n",
    "print(\"Shuffled list:\", shuffle(list1))"
   ]
  },
  {
   "cell_type": "code",
   "execution_count": 21,
   "metadata": {},
   "outputs": [
    {
     "data": {
      "text/plain": [
       "(3, 4, 5)"
      ]
     },
     "execution_count": 21,
     "metadata": {},
     "output_type": "execute_result"
    }
   ],
   "source": [
    "#Write a code that takes two tuples as input and returns a new tuple containing elements that are common to both input tuples\n",
    "def common_elements(tup1, tup2):\n",
    "    result = ()\n",
    "    for x in tup1:\n",
    "        if x in tup2:\n",
    "            result += (x,)\n",
    "    return result\n",
    "\n",
    "tup1 = (1, 2, 3, 4, 5)\n",
    "tup2 = (3, 4, 5, 6, 7)\n",
    "\n",
    "common_elements(tup1, tup2)"
   ]
  },
  {
   "cell_type": "code",
   "execution_count": 22,
   "metadata": {},
   "outputs": [
    {
     "name": "stdout",
     "output_type": "stream",
     "text": [
      "{2, 3}\n"
     ]
    }
   ],
   "source": [
    "# Create a code that prompts the user to enter two sets of integers separated by commas. Then, print the intersection of these two sets\n",
    "s1 = {1, 2, 3}\n",
    "s2 = {2, 3}\n",
    "print(s1.intersection(s2))\n"
   ]
  },
  {
   "cell_type": "code",
   "execution_count": 23,
   "metadata": {},
   "outputs": [
    {
     "name": "stdout",
     "output_type": "stream",
     "text": [
      "(1, 2, 3, 4, 5, 6)\n"
     ]
    }
   ],
   "source": [
    "#Write a code to concatenate two tuples. The function should take two tuples as input and return a new tuple containing elements from both input tuples.\n",
    "def concatenate_tuples(tup1, tup2):\n",
    "    return tup1 + tup2\n",
    "\n",
    "tuple1 = (1, 2, 3)\n",
    "tuple2 = (4, 5, 6)\n",
    "\n",
    "result = concatenate_tuples(tuple1, tuple2)\n",
    "\n",
    "print(result)"
   ]
  },
  {
   "cell_type": "code",
   "execution_count": 24,
   "metadata": {},
   "outputs": [
    {
     "name": "stdout",
     "output_type": "stream",
     "text": [
      "{'r', 'n'}\n"
     ]
    }
   ],
   "source": [
    "#Develop a code that prompts the user to input two sets of strings. Then,-\n",
    "#print the elements that are present in the first set but not in the second set\n",
    "\n",
    "# string 1\n",
    "a = \"rohan\"\n",
    "\n",
    "# string 2\n",
    "b = \"mohali\"\n",
    "\n",
    "# store the difference of sets\n",
    "result = set(a)-set(b)\n",
    "\n",
    "# print result\n",
    "print(result)"
   ]
  },
  {
   "cell_type": "code",
   "execution_count": 25,
   "metadata": {},
   "outputs": [
    {
     "name": "stdout",
     "output_type": "stream",
     "text": [
      "(6, 7, 8, 9, 10)\n"
     ]
    }
   ],
   "source": [
    "#Create a code that takes a tuple and two integers as input. The function should return a new tuple- \n",
    "#containing elements from the original tuple within the specified range of indices\n",
    "tuple_input = (1, 2, 3, 4, 5, 6, 7, 8, 9, 10)\n",
    "integer_input_1 = 5\n",
    "integer_input_2 = 10\n",
    "new_tuple = tuple_input[integer_input_1:integer_input_2:]\n",
    "print(new_tuple)"
   ]
  },
  {
   "cell_type": "code",
   "execution_count": 28,
   "metadata": {},
   "outputs": [
    {
     "name": "stdout",
     "output_type": "stream",
     "text": [
      "Union of the two sets: {'j', 'a', 'u', 'y', 'l', 'p', 'e', 's'}\n"
     ]
    }
   ],
   "source": [
    "#Write a code that prompts the user to input two sets of characters. Then, print the union of these two sets\n",
    "h_input = input(\"Enter the first set of characters :\")\n",
    "m_input = input(\"Enter the second set of characters :\")\n",
    "\n",
    "# the input tow sets of characters\n",
    "h_set = set(h_input) #sujay\n",
    "m_set = set(m_input) #payel\n",
    "\n",
    "# Calculate the union of the two sets\n",
    "union_set = h_set.union(m_set)\n",
    "\n",
    "# Print the union of the two sets\n",
    "print(\"Union of the two sets:\", union_set)"
   ]
  },
  {
   "cell_type": "code",
   "execution_count": 7,
   "metadata": {},
   "outputs": [
    {
     "name": "stdout",
     "output_type": "stream",
     "text": [
      "Maximum value: 978\n",
      "Minimum value: 10\n"
     ]
    }
   ],
   "source": [
    "# Develop a code that takes a tuple of integers as input. The function should return the maximum and \n",
    "# minimum values from the tuple using tuple unpacking\n",
    "def find_max_min(input_tuple):\n",
    "    max_val = max(input_tuple)\n",
    "    min_val = min(input_tuple)\n",
    "    \n",
    "    return max_val, min_val\n",
    "input_tuple = (10,35,26,97,567,978)\n",
    "max_val, min_val = find_max_min(input_tuple)\n",
    "print(\"Maximum value:\", max_val) \n",
    "print(\"Minimum value:\", min_val)"
   ]
  },
  {
   "cell_type": "code",
   "execution_count": 8,
   "metadata": {},
   "outputs": [
    {
     "name": "stdout",
     "output_type": "stream",
     "text": [
      "Union: {1, 2, 3, 4, 5, 6, 7, 8}\n",
      "Intersection: {4, 5}\n",
      "Difference (set1 - set2): {1, 2, 3}\n"
     ]
    }
   ],
   "source": [
    "# Create a code that defines two sets of integers. Then, print the union, intersection, and difference of these two sets\n",
    "set1 = {1, 2, 3, 4, 5}\n",
    "set2 = {4, 5, 6, 7, 8}\n",
    "# the union \n",
    "union_set = set1.union(set2)\n",
    "print(\"Union:\", union_set)\n",
    "# the intersection\n",
    "intersection_set = set1.intersection(set2)\n",
    "print(\"Intersection:\", intersection_set)\n",
    "# difference of these two sets\n",
    "difference_set1_set2 = set1.difference(set2)\n",
    "print(\"Difference (set1 - set2):\", difference_set1_set2)"
   ]
  },
  {
   "cell_type": "code",
   "execution_count": 14,
   "metadata": {},
   "outputs": [
    {
     "name": "stdout",
     "output_type": "stream",
     "text": [
      "Number of occurrences of 11 is 3 times\n"
     ]
    }
   ],
   "source": [
    "# Write a code that takes a tuple and an element as input. The function should return the count of occurrences of the given element in the tuple\n",
    "def count_occurrences(input_tuple, element):\n",
    "    # Use the count() method of tuples to count occurrences\n",
    "    return input_tuple.count(element)\n",
    "\n",
    "# Example usage:\n",
    "input_tuple = (11, 2, 3, 4,11,11, 5)\n",
    "element_to_count = 11\n",
    "occurrences = count_occurrences(input_tuple, element_to_count)\n",
    "print(\"Number of occurrences of\", element_to_count, \"is\", occurrences,\"times\")"
   ]
  },
  {
   "cell_type": "code",
   "execution_count": 15,
   "metadata": {},
   "outputs": [
    {
     "name": "stdout",
     "output_type": "stream",
     "text": [
      "Symmetric Difference: {'sujay', 'manna'}\n"
     ]
    }
   ],
   "source": [
    "# Develop a code that prompts the user to input two sets of strings. Then, print the symmetric difference of these two sets\n",
    "# Prompt the user to input two sets of strings\n",
    "set1 = set(input(\"Enter the first set of strings (comma-separated): \").split(','))\n",
    "set2 = set(input(\"Enter the second set of strings (comma-separated): \").split(','))\n",
    "\n",
    "# print the symmetric difference of the two sets\n",
    "symmetric_difference = set1.symmetric_difference(set2)\n",
    "print(\"Symmetric Difference:\", symmetric_difference)\n"
   ]
  },
  {
   "cell_type": "code",
   "execution_count": 20,
   "metadata": {},
   "outputs": [
    {
     "name": "stdout",
     "output_type": "stream",
     "text": [
      "Word Frequencies: {'apple': 4, 'banana': 2, 'orange': 1, 'cat': 2, 'dog': 2}\n"
     ]
    }
   ],
   "source": [
    "#Write a code that takes a list of words as input and returns a dictionary where the keys are unique words and the values are the frequencies of those words in the input list\n",
    "def word_frequency(input_list):\n",
    "    #  dictionary to store word frequencies\n",
    "    freq_dict = {}\n",
    "    # Iterate through the words in the input list\n",
    "    for word in input_list:\n",
    "        #  the dictionary, increment its frequency\n",
    "        if word in freq_dict:\n",
    "            freq_dict[word] += 1\n",
    "        # the dictionary, add it with a frequency of 1\n",
    "        else:\n",
    "            freq_dict[word] = 1\n",
    "    return freq_dict\n",
    "input_list = [\"apple\", \"banana\", \"apple\", \"orange\", \"banana\", \"apple\", \"apple\",\"cat\",\"cat\",\"dog\",\"dog\"]\n",
    "frequency_dict = word_frequency(input_list)\n",
    "print(\"Word Frequencies:\", frequency_dict)\n"
   ]
  },
  {
   "cell_type": "code",
   "execution_count": 23,
   "metadata": {},
   "outputs": [
    {
     "name": "stdout",
     "output_type": "stream",
     "text": [
      "Merged Dictionary: {'a': 10, 'b': 35, 'c': 55, 'd': 35}\n"
     ]
    }
   ],
   "source": [
    "# Write a code that takes two dictionaries as input and merges them into a single dictionary. If there are common keys, the values should be added together\n",
    "def merge_dictionaries(dict1, dict2):\n",
    "    merged_dict = dict1.copy() \n",
    "    # Iterate through the second dictionary\n",
    "    for key, value in dict2.items():\n",
    "        # If the key is already in the merged dictionary, add the value to the existing value\n",
    "        if key in merged_dict:\n",
    "            merged_dict[key] += value\n",
    "        # If the key is not in the merged dictionary, add it with its value\n",
    "        else:\n",
    "            merged_dict[key] = value\n",
    "    return merged_dict\n",
    "dict1 = {'a': 10, 'b': 20, 'c': 30}\n",
    "dict2 = {'b': 15, 'c': 25, 'd': 35}\n",
    "merged = merge_dictionaries(dict1, dict2)\n",
    "print(\"Merged Dictionary:\", merged)"
   ]
  },
  {
   "cell_type": "code",
   "execution_count": 28,
   "metadata": {},
   "outputs": [
    {
     "name": "stdout",
     "output_type": "stream",
     "text": [
      "Value: 10\n"
     ]
    }
   ],
   "source": [
    "# Write a code to access a value in a nested dictionary. The function should take the dictionary and a list of keys as input, and return the corresponding value. If any of the keys do not exist in the dictionary, the function should return None\n",
    "def access_nested_value(dictionary, keys):\n",
    "    # variable to store the current level dictionary\n",
    "    current_dict = dictionary\n",
    "    # Iterate through the keys\n",
    "    for key in keys:\n",
    "        # Check if the current key exists in the current level dictionary\n",
    "        if key in current_dict:\n",
    "            # Move to the next level dictionary\n",
    "            current_dict = current_dict[key]\n",
    "        else:\n",
    "            return None\n",
    "    # Return the value corresponding to the last key\n",
    "    return current_dict\n",
    "nested_dict = {'a':{'b':{'c':10}}}\n",
    "keys_to_access = ['a', 'b', 'c']\n",
    "value = access_nested_value(nested_dict, keys_to_access)\n",
    "print(\"Value:\", value)  "
   ]
  },
  {
   "cell_type": "code",
   "execution_count": 29,
   "metadata": {},
   "outputs": [
    {
     "name": "stdout",
     "output_type": "stream",
     "text": [
      "Sorted Dictionary (Ascending): {'b': 1, 'c': 2, 'a': 3}\n"
     ]
    }
   ],
   "source": [
    "#Write a code that takes a dictionary as input and returns a sorted version of it based on the values. You can choose whether to sort in ascending or descending order\n",
    "def sort_dict_by_values(dictionary, reverse=False):\n",
    "    # Sort the dictionary by values\n",
    "    sorted_dict = dict(sorted(dictionary.items(), key=lambda item: item[1], reverse=reverse))\n",
    "    return sorted_dict\n",
    "input_dict = {'a': 3, 'b': 1, 'c': 2}\n",
    "sorted_dict = sort_dict_by_values(input_dict)\n",
    "print(\"Sorted Dictionary (Ascending):\", sorted_dict)\n"
   ]
  },
  {
   "cell_type": "code",
   "execution_count": 30,
   "metadata": {},
   "outputs": [
    {
     "name": "stdout",
     "output_type": "stream",
     "text": [
      "Inverted Dictionary: {1: ['a', 'c'], 2: ['b', 'd']}\n"
     ]
    }
   ],
   "source": [
    "# Write a code that inverts a dictionary, swapping keys and values. Ensure that the inverted dictionary correctly handles cases where multiple keys have the same value by storing the keys as a list in the inverted dictionary\n",
    "def invert_dict(dictionary):\n",
    "    inverted_dict = {}\n",
    "    for key, value in dictionary.items():\n",
    "        if value not in inverted_dict:\n",
    "            inverted_dict[value] = [key]\n",
    "        else:\n",
    "            inverted_dict[value].append(key)\n",
    "    return inverted_dict\n",
    "input_dict = {'a': 1, 'b': 2, 'c': 1, 'd': 2}\n",
    "inverted = invert_dict(input_dict)\n",
    "print(\"Inverted Dictionary:\", inverted)"
   ]
  },
  {
   "cell_type": "code",
   "execution_count": null,
   "metadata": {},
   "outputs": [],
   "source": [
    "#thank you "
   ]
  }
 ],
 "metadata": {
  "kernelspec": {
   "display_name": "Python 3",
   "language": "python",
   "name": "python3"
  },
  "language_info": {
   "codemirror_mode": {
    "name": "ipython",
    "version": 3
   },
   "file_extension": ".py",
   "mimetype": "text/x-python",
   "name": "python",
   "nbconvert_exporter": "python",
   "pygments_lexer": "ipython3",
   "version": "3.12.4"
  }
 },
 "nbformat": 4,
 "nbformat_minor": 2
}
