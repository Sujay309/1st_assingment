{
 "cells": [
  {
   "cell_type": "markdown",
   "metadata": {},
   "source": [
    "NUMPY assingment"
   ]
  },
  {
   "cell_type": "code",
   "execution_count": 92,
   "metadata": {},
   "outputs": [],
   "source": [
    "import numpy as np\n",
    "import pandas as pd\n",
    "import random\n",
    "import sys"
   ]
  },
  {
   "cell_type": "code",
   "execution_count": 2,
   "metadata": {},
   "outputs": [
    {
     "data": {
      "text/plain": [
       "(numpy.ndarray, array([1, 2, 3, 4, 5]))"
      ]
     },
     "execution_count": 2,
     "metadata": {},
     "output_type": "execute_result"
    }
   ],
   "source": [
    "#1. Create a NumPy array 'arr' of integers from 0 to 5 and print its data type.\n",
    "arr1= np.array([1,2,3,4,5])\n",
    "type(arr1), arr1"
   ]
  },
  {
   "cell_type": "code",
   "execution_count": 3,
   "metadata": {},
   "outputs": [
    {
     "data": {
      "text/plain": [
       "numpy.float64"
      ]
     },
     "execution_count": 3,
     "metadata": {},
     "output_type": "execute_result"
    }
   ],
   "source": [
    "#2. Given a NumPy array 'arr', check if its data type is float64.\n",
    "arr = np.array([1.5, 2.6, 3.7])\n",
    "type(arr[0])"
   ]
  },
  {
   "cell_type": "code",
   "execution_count": 4,
   "metadata": {},
   "outputs": [
    {
     "data": {
      "text/plain": [
       "numpy.complex128"
      ]
     },
     "execution_count": 4,
     "metadata": {},
     "output_type": "execute_result"
    }
   ],
   "source": [
    "#3. Create a NumPy array 'arr' with a data type of complex128 containing three complex numbers.\n",
    "\n",
    "arr = np.array([2+3j, 4+2j, 3+7j], dtype=np.complex128)\n",
    "type(arr[1])\n"
   ]
  },
  {
   "cell_type": "code",
   "execution_count": 5,
   "metadata": {},
   "outputs": [
    {
     "data": {
      "text/plain": [
       "numpy.float32"
      ]
     },
     "execution_count": 5,
     "metadata": {},
     "output_type": "execute_result"
    }
   ],
   "source": [
    "#4. Convert an existing NumPy array 'arr' of integers to float32 data type.\n",
    "\n",
    "arr1= np.array([1,2,3,4,5], dtype=np.float32)\n",
    "type(arr1[1])"
   ]
  },
  {
   "cell_type": "code",
   "execution_count": 6,
   "metadata": {},
   "outputs": [
    {
     "data": {
      "text/plain": [
       "numpy.float32"
      ]
     },
     "execution_count": 6,
     "metadata": {},
     "output_type": "execute_result"
    }
   ],
   "source": [
    "#5. Given a NumPy array 'arr' with float64 data type, convert it to float32 to reduce decimal precision.\n",
    "\n",
    "arr = np.array([1.5, 2.6, 3.7], dtype=np.float32)\n",
    "type(arr[1])"
   ]
  },
  {
   "cell_type": "code",
   "execution_count": 7,
   "metadata": {},
   "outputs": [
    {
     "name": "stdout",
     "output_type": "stream",
     "text": [
      "{'shape': (2, 2), 'size': 4, 'dtype': dtype('int32')}\n"
     ]
    }
   ],
   "source": [
    "#6. Write a function array_attributes that takes a NumPy array as input and returns its shape, size, and data type.\n",
    "\n",
    "def array_attributes(arr):\n",
    "    attributes = {\n",
    "        'shape': arr.shape,\n",
    "        'size': arr.size,\n",
    "        'dtype': arr.dtype\n",
    "    }\n",
    "    return attributes\n",
    "\n",
    "arr = np.array([[1, 2], [3, 4]])\n",
    "print(array_attributes(arr))"
   ]
  },
  {
   "cell_type": "code",
   "execution_count": 8,
   "metadata": {},
   "outputs": [
    {
     "name": "stdout",
     "output_type": "stream",
     "text": [
      "The Array dimension is: 3\n"
     ]
    }
   ],
   "source": [
    "#7. Create a function array_dimension that takes a NumPy array as input and returns its dimensionality.\n",
    "\n",
    "def array_dimension(arr):\n",
    "    dimension = arr.ndim\n",
    "    return f\"The Array dimension is: {dimension}\"\n",
    "\n",
    "\n",
    "arr = np.array([[[1, 2], [3, 4]]])\n",
    "print(array_dimension(arr))"
   ]
  },
  {
   "cell_type": "code",
   "execution_count": 9,
   "metadata": {},
   "outputs": [
    {
     "name": "stdout",
     "output_type": "stream",
     "text": [
      "{'shape': (2, 2), 'size': 4, 'dtype': dtype('int32')}\n"
     ]
    }
   ],
   "source": [
    "#8. Design a function item_size_info that takes a NumPy array as input and returns the item size and the total size in bytes.\n",
    "\n",
    "def item_size_info(arr):\n",
    "    attributes = {\n",
    "        'item': arr.item,\n",
    "        'size': arr.size,\n",
    "        'info': arr.info\n",
    "    }\n",
    "    return attributes\n",
    "\n",
    "arr = np.array([[1, 2], [3, 4]])\n",
    "print(array_attributes(arr))"
   ]
  },
  {
   "cell_type": "code",
   "execution_count": 10,
   "metadata": {},
   "outputs": [
    {
     "name": "stdout",
     "output_type": "stream",
     "text": [
      "(8, 4)\n"
     ]
    }
   ],
   "source": [
    "#9. Create a function array_strides that takes a NumPy array as input and returns the strides of the array.\n",
    "\n",
    "def array_strides(arr):\n",
    "    return arr.strides\n",
    "\n",
    "arr = np.array([[1, 2], [3, 4]])\n",
    "print(array_strides(arr))"
   ]
  },
  {
   "cell_type": "code",
   "execution_count": 11,
   "metadata": {},
   "outputs": [
    {
     "name": "stdout",
     "output_type": "stream",
     "text": [
      "{'shape': (2, 2), 'strides': (8, 4)}\n"
     ]
    }
   ],
   "source": [
    "#10. Design a function shape_stride_relationship that takes a NumPy array as input and returns the shape and strides of the array.\n",
    "\n",
    "def shape_stride_relationship(arr):\n",
    "    return {\n",
    "        'shape': arr.shape,\n",
    "        'strides': arr.strides\n",
    "    }\n",
    "\n",
    "arr = np.array([[1, 2], [3, 4]])\n",
    "print(shape_stride_relationship(arr))"
   ]
  },
  {
   "cell_type": "code",
   "execution_count": 3,
   "metadata": {},
   "outputs": [
    {
     "name": "stdout",
     "output_type": "stream",
     "text": [
      "[0. 0. 0. 0. 0. 0. 0. 0. 0. 0.]\n"
     ]
    }
   ],
   "source": [
    "#11. Create a function `create_zeros_array` that takes an integer `n` as input and returns a NumPy array of zeros with `n` elements.\n",
    "\n",
    "def create_zeros_array(n):\n",
    "    return np.zeros(n)\n",
    "\n",
    "n = 10\n",
    "print(create_zeros_array(n))\n"
   ]
  },
  {
   "cell_type": "code",
   "execution_count": 4,
   "metadata": {},
   "outputs": [
    {
     "name": "stdout",
     "output_type": "stream",
     "text": [
      "[[1. 1. 1. 1.]\n",
      " [1. 1. 1. 1.]\n",
      " [1. 1. 1. 1.]]\n"
     ]
    }
   ],
   "source": [
    "#12. Write a function `create_ones_matrix` that takes integers `rows` and `cols` as inputs and generates a 2D \n",
    "#NumPy array filled with ones of size `rows x cols`.\n",
    "\n",
    "def create_ones_matrix(r,c):\n",
    "    return np.ones((r,c))\n",
    "\n",
    "r = 3\n",
    "c = 4\n",
    "print(create_ones_matrix(r,c))\n"
   ]
  },
  {
   "cell_type": "code",
   "execution_count": 14,
   "metadata": {},
   "outputs": [
    {
     "name": "stdout",
     "output_type": "stream",
     "text": [
      "[ 1  6 11 16 21 26 31 36 41 46 51 56 61 66 71 76 81 86 91 96]\n"
     ]
    }
   ],
   "source": [
    "#13. Write a function `generate_range_array` that takes three integers start, stop, and step as arguments and \n",
    "#creates a NumPy array with a range starting from `start`, ending at stop (exclusive), and with the specified `step`.\n",
    "\n",
    "def generate_range_array(start , stop, step):\n",
    "    return np.arange(start , stop, step)\n",
    "\n",
    "start = 1\n",
    "stop = 100\n",
    "step = 5\n",
    "\n",
    "print(generate_range_array(start , stop, step))"
   ]
  },
  {
   "cell_type": "code",
   "execution_count": 16,
   "metadata": {},
   "outputs": [
    {
     "name": "stdout",
     "output_type": "stream",
     "text": [
      "[0.   1.25 2.5  3.75 5.  ]\n"
     ]
    }
   ],
   "source": [
    "#14. Design a function `generate_linear_space` that takes two floats `start`, `stop`, and an integer `num` as \n",
    "#arguments and generates a NumPy array with num equally spaced values between `start` and `stop` (inclusive).\n",
    "\n",
    "def generate_linear_space(start, stop, num):\n",
    "    return np.linspace(start, stop, num)\n",
    "\n",
    "start = 0.0\n",
    "stop = 5.0\n",
    "num = 5\n",
    "linear_space = generate_linear_space(start, stop, num)\n",
    "print(linear_space)"
   ]
  },
  {
   "cell_type": "code",
   "execution_count": 17,
   "metadata": {},
   "outputs": [
    {
     "name": "stdout",
     "output_type": "stream",
     "text": [
      "[[1. 0. 0. 0.]\n",
      " [0. 1. 0. 0.]\n",
      " [0. 0. 1. 0.]\n",
      " [0. 0. 0. 1.]]\n"
     ]
    }
   ],
   "source": [
    "#15. Create a function `create_identity_matrix` that takes an integer `n` as input and generates a square \n",
    "#identity matrix of size `n x n` using `numpy.eye`.\n",
    "\n",
    "def create_identity_matrix(n):\n",
    "    return np.eye(n)\n",
    "\n",
    "n = 4\n",
    "identity_matrix = create_identity_matrix(n)\n",
    "print(identity_matrix)"
   ]
  },
  {
   "cell_type": "code",
   "execution_count": 19,
   "metadata": {},
   "outputs": [
    {
     "name": "stdout",
     "output_type": "stream",
     "text": [
      "<class 'numpy.ndarray'>\n"
     ]
    }
   ],
   "source": [
    "#16. Write a function that takes a Python list and converts it into a NumPy array.\n",
    "\n",
    "def numpy_array(a):\n",
    "    return np.array(a)\n",
    "\n",
    "a = [1, 2, 3, 4, 5]\n",
    "array1 = numpy_array(a)\n",
    "print(type(array1))\n"
   ]
  },
  {
   "cell_type": "code",
   "execution_count": 20,
   "metadata": {},
   "outputs": [
    {
     "name": "stdout",
     "output_type": "stream",
     "text": [
      "Original Array: [1 2 3 4 5]\n",
      "New Array View: [1 2 3 4 5]\n"
     ]
    }
   ],
   "source": [
    "#17. Create a NumPy array and demonstrate the use of `numpy.view` to create a new array object with the same data.\n",
    "\n",
    "normal_array = np.array([1,2,3,4,5])\n",
    "new_array_view = normal_array.view()\n",
    "\n",
    "print(\"Original Array:\", normal_array)\n",
    "print(\"New Array View:\", new_array_view)"
   ]
  },
  {
   "cell_type": "code",
   "execution_count": 6,
   "metadata": {},
   "outputs": [
    {
     "name": "stdout",
     "output_type": "stream",
     "text": [
      "Concatenated along axis 0:\n",
      " [[1 2]\n",
      " [3 4]\n",
      " [5 6]\n",
      " [7 8]]\n",
      "Concatenated along axis 1:\n",
      " [[1 2 5 6]\n",
      " [3 4 7 8]]\n"
     ]
    }
   ],
   "source": [
    "#18. Write a function that takes two NumPy arrays and concatenates them along a specified axis.\n",
    "\n",
    "def concatenates_arrays(a1,a2, axis =0):\n",
    "    return np.concatenate((a1,a2), axis= axis)\n",
    " \n",
    "\n",
    "a1 = np.array([[1, 2], [3, 4]])\n",
    "a2 = np.array([[5, 6], [7, 8]])\n",
    "\n",
    "array_axis0 = concatenates_arrays(a1, a2, axis=0)\n",
    "print(\"Concatenated along axis 0:\\n\", array_axis0)\n",
    "\n",
    "array_axis1 = concatenates_arrays(a1, a2, axis=1)\n",
    "print(\"Concatenated along axis 1:\\n\", array_axis1)\n"
   ]
  },
  {
   "cell_type": "code",
   "execution_count": 24,
   "metadata": {},
   "outputs": [
    {
     "name": "stdout",
     "output_type": "stream",
     "text": [
      "Array 1:\n",
      " [[1 2 3]\n",
      " [4 5 6]]\n",
      "Array 2:\n",
      " [[7]\n",
      " [8]]\n",
      "Concatenated Array:\n",
      " [[1 2 3 7]\n",
      " [4 5 6 8]]\n"
     ]
    }
   ],
   "source": [
    "#19. Create two NumPy arrays with different shapes and concatenate them horizontally using `numpy.concatenate`.\n",
    "\n",
    "a1 = np.array([[1, 2, 3], [4, 5, 6]])  \n",
    "a2 = np.array([[7], [8]])              \n",
    "\n",
    "concatenated_array = np.concatenate((a1, a2), axis=1)\n",
    "\n",
    "print(\"Array 1:\\n\", a1)\n",
    "print(\"Array 2:\\n\", a2)\n",
    "print(\"Concatenated Array:\\n\", concatenated_array)\n"
   ]
  },
  {
   "cell_type": "code",
   "execution_count": 25,
   "metadata": {},
   "outputs": [
    {
     "name": "stdout",
     "output_type": "stream",
     "text": [
      "Vertically Stacked Array:\n",
      " [[1 2 3]\n",
      " [4 5 6]\n",
      " [7 8 9]]\n"
     ]
    }
   ],
   "source": [
    "#20. Write a function that vertically stacks multiple NumPy arrays given as a list.\n",
    "\n",
    "def vertical_stack(arrays):\n",
    "    return np.vstack(arrays)\n",
    "\n",
    "a1 = np.array([[1, 2, 3]])\n",
    "a2 = np.array([[4, 5, 6]])\n",
    "a3 = np.array([[7, 8, 9]])\n",
    "\n",
    "stacked_array = vertical_stack([a1, a2, a3])\n",
    "\n",
    "print(\"Vertically Stacked Array:\\n\", stacked_array)\n"
   ]
  },
  {
   "cell_type": "code",
   "execution_count": 26,
   "metadata": {},
   "outputs": [
    {
     "name": "stdout",
     "output_type": "stream",
     "text": [
      "Integer Range Array: [ 0  4  8 12 16 20]\n"
     ]
    }
   ],
   "source": [
    "\"\"\"21. Write a Python function using NumPy to create an array of integers within a specified range (inclusive) \n",
    "with a given step size.\"\"\"\n",
    "\n",
    "def create_integer_range(start, stop, step):\n",
    "    return np.arange(start, stop + 1, step)\n",
    "\n",
    "start = 0\n",
    "stop = 20\n",
    "step = 4\n",
    "integer_range_array = create_integer_range(start, stop, step)\n",
    "print(\"Integer Range Array:\", integer_range_array)\n"
   ]
  },
  {
   "cell_type": "code",
   "execution_count": 27,
   "metadata": {},
   "outputs": [
    {
     "name": "stdout",
     "output_type": "stream",
     "text": [
      "Equally Spaced Values: [0.         0.11111111 0.22222222 0.33333333 0.44444444 0.55555556\n",
      " 0.66666667 0.77777778 0.88888889 1.        ]\n"
     ]
    }
   ],
   "source": [
    "#22. Write a Python function using NumPy to generate an array of 10 equally spaced values between 0 and 1 (inclusive).\n",
    "\n",
    "def g_e_s_v():\n",
    "    return np.linspace(0, 1, 10)\n",
    "\n",
    "equally_spaced_values = g_e_s_v()\n",
    "print(\"Equally Spaced Values:\", equally_spaced_values)"
   ]
  },
  {
   "cell_type": "code",
   "execution_count": 31,
   "metadata": {},
   "outputs": [
    {
     "name": "stdout",
     "output_type": "stream",
     "text": [
      "Logarithmically Spaced Values: [   1.            5.62341325   31.6227766   177.827941   1000.        ]\n"
     ]
    }
   ],
   "source": [
    "\n",
    "#23. Write a Python function using NumPy to create an array of 5 logarithmically spaced values between 1 and 1000 (inclusive).\n",
    "\n",
    "def glsv():\n",
    "    return np.logspace(0,3,5)\n",
    "\n",
    "lsv = glsv()\n",
    "print(\"Logarithmically Spaced Values:\", lsv)\n"
   ]
  },
  {
   "cell_type": "code",
   "execution_count": 33,
   "metadata": {},
   "outputs": [
    {
     "name": "stdout",
     "output_type": "stream",
     "text": [
      "Pandas DataFrame:\n",
      "   Column1  Column2  Column3\n",
      "0       38       96       49\n",
      "1       76       13       61\n",
      "2       39       41       35\n",
      "3       46       36        7\n",
      "4       83       71        1\n"
     ]
    }
   ],
   "source": [
    "\"\"\"24. Create a Pandas DataFrame using a NumPy array that contains 5 rows and 3 columns, where the values \n",
    "are random integers between 1 and 100.\"\"\"\n",
    "\n",
    "data_array = np.random.randint(1, 101, size=(5, 3))\n",
    "df = pd.DataFrame(data_array, columns=['Column1', 'Column2', 'Column3'])\n",
    "\n",
    "print(\"Pandas DataFrame:\")\n",
    "print(df)\n"
   ]
  },
  {
   "cell_type": "code",
   "execution_count": 41,
   "metadata": {},
   "outputs": [
    {
     "name": "stdout",
     "output_type": "stream",
     "text": [
      "Original DataFrame:\n",
      "    A   B\n",
      "0  1  10\n",
      "1 -2  20\n",
      "2  3 -30\n",
      "3 -4  40\n",
      "4  5 -50\n",
      "\n",
      "DataFrame with Negative Values Replaced by Zeros:\n",
      "    A   B\n",
      "0  1  10\n",
      "1 -2  20\n",
      "2  3   0\n",
      "3 -4  40\n",
      "4  5   0\n"
     ]
    }
   ],
   "source": [
    "\"\"\"25. Write a function that takes a Pandas DataFrame and replaces all negative values in a specific column \n",
    "with zeros. Use NumPy operations within the Pandas DataFrame.\"\"\"\n",
    "\n",
    "def replace_negatives_with_zeros(df, column_name):\n",
    "    df[column_name] = np.where(df[column_name] < 0, 0, df[column_name])\n",
    "    return df\n",
    "\n",
    "data = {'A': [1, -2, 3, -4, 5],'B': [10, 20, -30, 40, -50]}\n",
    "df = pd.DataFrame(data)\n",
    "\n",
    "print(\"Original DataFrame:\\n\",(df))\n",
    "\n",
    "df_modified = replace_negatives_with_zeros(df, 'B')\n",
    "\n",
    "print(\"\\nDataFrame with Negative Values Replaced by Zeros:\\n\",(df_modified))"
   ]
  },
  {
   "cell_type": "code",
   "execution_count": 42,
   "metadata": {},
   "outputs": [
    {
     "name": "stdout",
     "output_type": "stream",
     "text": [
      "40\n"
     ]
    }
   ],
   "source": [
    "#26. Access the 3rd element from the given NumPy array.\n",
    "\n",
    "arr = np.array([10, 20, 30, 40, 50])\n",
    "\n",
    "print(arr[3])"
   ]
  },
  {
   "cell_type": "code",
   "execution_count": 45,
   "metadata": {},
   "outputs": [
    {
     "name": "stdout",
     "output_type": "stream",
     "text": [
      "Element at index (1, 2): 6\n"
     ]
    }
   ],
   "source": [
    "#27. Retrieve the element at index (1, 2) from the 2D NumPy array.\n",
    "\n",
    "arr_2d = np.array([\n",
    "    [1, 2, 3],\n",
    "    [4, 5, 6],\n",
    "    [7, 8, 9]])\n",
    "\n",
    "element_12 = arr_2d[1, 2]\n",
    "\n",
    "print(\"Element at index (1, 2):\", element_12)\n"
   ]
  },
  {
   "cell_type": "code",
   "execution_count": 51,
   "metadata": {},
   "outputs": [
    {
     "name": "stdout",
     "output_type": "stream",
     "text": [
      "elements greater than 5 is : [ 8 10  7]\n"
     ]
    }
   ],
   "source": [
    "#28. Using boolean indexing, extract elements greater than 5 from the given NumPy array.\n",
    "\n",
    "arr = np.array([3, 8, 2, 10, 5, 7])\n",
    "\n",
    "mask = arr > 5 \n",
    "\n",
    "elements_greater_than_5 = arr[mask]\n",
    "print(\"elements greater than 5 is :\",elements_greater_than_5)"
   ]
  },
  {
   "cell_type": "code",
   "execution_count": 54,
   "metadata": {},
   "outputs": [
    {
     "data": {
      "text/plain": [
       "array([3, 4, 5])"
      ]
     },
     "execution_count": 54,
     "metadata": {},
     "output_type": "execute_result"
    }
   ],
   "source": [
    "#29. Perform basic slicing to extract elements from index 2 to 5 (inclusive) from the given NumPy array.\n",
    "\n",
    "arr = np.array([1, 2, 3, 4, 5, 6, 7, 8, 9])\n",
    "\n",
    "slicing_arr1 = arr[2:5]\n",
    "slicing_arr1"
   ]
  },
  {
   "cell_type": "code",
   "execution_count": 76,
   "metadata": {},
   "outputs": [
    {
     "data": {
      "text/plain": [
       "array([[2, 3],\n",
       "       [5, 6]])"
      ]
     },
     "execution_count": 76,
     "metadata": {},
     "output_type": "execute_result"
    }
   ],
   "source": [
    "#30. Slice the 2D NumPy array to extract the sub-array `[[2, 3], [5, 6]]` from the given array.\n",
    "\n",
    "arr_2d = np.array([[1, 2, 3],\n",
    "                   [4, 5, 6],\n",
    "                   [7, 8, 9]])\n",
    "\n",
    "sub_array = arr_2d[0:2,1:3]\n",
    "\n",
    "sub_array"
   ]
  },
  {
   "cell_type": "code",
   "execution_count": 78,
   "metadata": {},
   "outputs": [
    {
     "data": {
      "text/plain": [
       "array([2, 5, 8])"
      ]
     },
     "execution_count": 78,
     "metadata": {},
     "output_type": "execute_result"
    }
   ],
   "source": [
    "#31.Write a NumPy function to extract elements in specific order from a given 2D array based on indices provided in another array.\n",
    "\n",
    "#function\n",
    "def extract_elements_by_indices(arr_2d, indices):\n",
    "    flat_arr = arr_2d.flatten()\n",
    "    extracted_elements = flat_arr[indices]\n",
    "    return extracted_elements\n",
    "\n",
    "#inputs\n",
    "arr_2d = np.array([[1, 2, 3],\n",
    "                   [4, 5, 6],\n",
    "                   [7, 8, 9],])\n",
    "\n",
    "indices = np.array([1, 4, 7])\n",
    "\n",
    "#function coll\n",
    "extracted_elements = extract_elements_by_indices(arr_2d, indices)\n",
    "\n",
    "#result\n",
    "extracted_elements"
   ]
  },
  {
   "cell_type": "code",
   "execution_count": 81,
   "metadata": {},
   "outputs": [
    {
     "data": {
      "text/plain": [
       "array([34, 56, 23, 78, 90])"
      ]
     },
     "execution_count": 81,
     "metadata": {},
     "output_type": "execute_result"
    }
   ],
   "source": [
    "#32. Create a NumPy function that filters elements greater than a threshold from a given 1D array using boolean indexing.\n",
    "\n",
    "#function\n",
    "def filters_elements_greater_than_a_threshold(arr,threshold):\n",
    "     mask = arr > threshold\n",
    "     filtered_array = arr[mask]\n",
    "     return filtered_array\n",
    "\n",
    "#inputs\n",
    "arr = np.array([1,2,3,4,5,6,7,8,9,11,34,56,23,78,90])\n",
    "threshold = 20\n",
    "\n",
    "#function call\n",
    "filters_elements = filters_elements_greater_than_a_threshold(arr,threshold)\n",
    "\n",
    "#result\n",
    "filters_elements"
   ]
  },
  {
   "cell_type": "code",
   "execution_count": 93,
   "metadata": {},
   "outputs": [
    {
     "data": {
      "text/plain": [
       "array([ 6, 11])"
      ]
     },
     "execution_count": 93,
     "metadata": {},
     "output_type": "execute_result"
    }
   ],
   "source": [
    "#33. Develop a NumPy function that extracts specific elements from a 3D array using indices provided in three separate arrays for each dimension.\n",
    "\n",
    "#function\n",
    "def extract_elements_3d(arr_3d, d1, d2, d3):\n",
    "    extracted_elements = arr_3d[d1, d2, d3]\n",
    "    return extracted_elements\n",
    "\n",
    "#input\n",
    "arr_3d = np.array([[[1, 2, 3],\n",
    "                    [4, 5, 6]],\n",
    "                   \n",
    "                    [[7, 8, 9],\n",
    "                    [10, 11, 12]]])\n",
    "\n",
    "d1 = np.array([0,1])\n",
    "d2 = np.array([1,1])\n",
    "d3 = np.array([2,1])\n",
    "\n",
    "#function call\n",
    "extract_elements = extract_elements_3d(arr_3d, d1, d2, d3)\n",
    "\n",
    "#result\n",
    "extract_elements"
   ]
  },
  {
   "cell_type": "code",
   "execution_count": 99,
   "metadata": {},
   "outputs": [
    {
     "data": {
      "text/plain": [
       "array([11, 22, 33, 44])"
      ]
     },
     "execution_count": 99,
     "metadata": {},
     "output_type": "execute_result"
    }
   ],
   "source": [
    "#34. Write a NumPy function that returns elements from an array where both two conditions are satisfied using boolean indexing.\n",
    "\n",
    "#function\n",
    "def filter_with_conditions(arr, con1, con2):\n",
    "    filtered_elements = arr[np.logical_and(con1, con2)]\n",
    "    return filtered_elements\n",
    "\n",
    "#input\n",
    "arr = np.array([11,22,33,44,55,66,77,88,99])\n",
    "con1 = arr < 50\n",
    "con2 =  arr / 11\n",
    "\n",
    "#function call\n",
    "satisfied_condition_element = filter_with_conditions(arr, con1, con2)\n",
    "\n",
    "#result\n",
    "satisfied_condition_element"
   ]
  },
  {
   "cell_type": "code",
   "execution_count": 100,
   "metadata": {},
   "outputs": [
    {
     "data": {
      "text/plain": [
       "array([2, 6, 7])"
      ]
     },
     "execution_count": 100,
     "metadata": {},
     "output_type": "execute_result"
    }
   ],
   "source": [
    "#35. Create a NumPy function that extracts elements from a 2D array using row and column indices provided in separate arrays.\n",
    "\n",
    "#function\n",
    "def e_e(arr_2d, row, col):\n",
    "    extracted_elements = arr_2d[row , col]\n",
    "    return extracted_elements\n",
    "\n",
    "# inputs\n",
    "arr_2d = np.array([[1, 2, 3],[4, 5, 6],[7, 8, 9]])\n",
    "\n",
    "row = np.array([0, 1, 2])\n",
    "col = np.array([1, 2, 0])\n",
    "\n",
    "#function coll\n",
    "the_elements = e_e(arr_2d, row, col)\n",
    "\n",
    "#result\n",
    "the_elements"
   ]
  },
  {
   "cell_type": "code",
   "execution_count": 104,
   "metadata": {},
   "outputs": [
    {
     "name": "stdout",
     "output_type": "stream",
     "text": [
      "original array : \n",
      " [[1 2 3]\n",
      " [4 5 6]\n",
      " [7 8 9]]\n",
      "broadcasting arry : \n",
      " [[ 6  7  8]\n",
      " [ 9 10 11]\n",
      " [12 13 14]]\n"
     ]
    }
   ],
   "source": [
    "#36. Given an array arr of shape (3, 3), add a scalar value of 5 to each element using NumPy broadcasting.\n",
    "\n",
    "arr = np.array([[1, 2, 3],[4, 5, 6],[7, 8, 9]])\n",
    "\n",
    "result = arr + 5\n",
    "\n",
    "print(\"original array : \\n\", arr)\n",
    "print(\"broadcasting arry : \\n\", result)"
   ]
  },
  {
   "cell_type": "code",
   "execution_count": 3,
   "metadata": {},
   "outputs": [
    {
     "data": {
      "text/plain": [
       "array([[ 4,  5,  6,  7],\n",
       "       [16, 18, 20, 22],\n",
       "       [36, 39, 42, 45]])"
      ]
     },
     "execution_count": 3,
     "metadata": {},
     "output_type": "execute_result"
    }
   ],
   "source": [
    "\"\"\"37. Consider two arrays arr1 of shape (1, 3) and arr2 of shape (3, 4). Multiply each row of arr2 by the \n",
    "corresponding element in arr1 using NumPy broadcasting.\"\"\"\n",
    "\n",
    "arr1 = np.array([1,2,3])\n",
    "arr2 = np.array([[4,5,6,7],\n",
    "                 [8,9,10,11],\n",
    "                 [12,13,14,15]])\n",
    "\n",
    "arr1_reshaped = arr1.reshape(3, 1)\n",
    "new_array = arr2 * arr1_reshaped\n",
    "\n",
    "new_array"
   ]
  },
  {
   "cell_type": "code",
   "execution_count": 4,
   "metadata": {},
   "outputs": [
    {
     "data": {
      "text/plain": [
       "array([[ 6,  7,  8],\n",
       "       [10, 11, 12],\n",
       "       [14, 15, 16],\n",
       "       [18, 19, 20]])"
      ]
     },
     "execution_count": 4,
     "metadata": {},
     "output_type": "execute_result"
    }
   ],
   "source": [
    "#38. Given a 1D array arr1 of shape (1, 4) and a 2D array arr2 of shape (4, 3), add arr1 to each row of arr2 using NumPy broadcasting.\n",
    "\n",
    "arr1 = np.array([[1, 2, 3, 4]]) \n",
    "arr2 = np.array([[5, 6, 7],[8, 9, 10],[11, 12, 13],[14, 15, 16]])\n",
    "\n",
    "arr1_re = arr1.reshape(4, 1)\n",
    "new_array = arr2 + arr1_re\n",
    "\n",
    "new_array"
   ]
  },
  {
   "cell_type": "code",
   "execution_count": 5,
   "metadata": {},
   "outputs": [
    {
     "data": {
      "text/plain": [
       "array([[5, 6, 7],\n",
       "       [6, 7, 8],\n",
       "       [7, 8, 9]])"
      ]
     },
     "execution_count": 5,
     "metadata": {},
     "output_type": "execute_result"
    }
   ],
   "source": [
    "#39. Consider two arrays arr1 of shape (3, 1) and arr2 of shape (1, 3). Add these arrays using NumPy broadcasting.\n",
    "\n",
    "arr1 = np.array([[1], [2], [3]])  \n",
    "arr2 = np.array([[4, 5, 6]])\n",
    "\n",
    "new = arr1 + arr2\n",
    "\n",
    "new"
   ]
  },
  {
   "cell_type": "code",
   "execution_count": 8,
   "metadata": {},
   "outputs": [
    {
     "data": {
      "text/plain": [
       "array([[[ 7,  8],\n",
       "        [14, 16],\n",
       "        [21, 24]],\n",
       "\n",
       "       [[36, 40],\n",
       "        [45, 50],\n",
       "        [54, 60]]])"
      ]
     },
     "execution_count": 8,
     "metadata": {},
     "output_type": "execute_result"
    }
   ],
   "source": [
    "\"\"\"40. Given arrays arr1 of shape (2, 3) and arr2 of shape (2, 2), perform multiplication using NumPy \n",
    "broadcasting. Handle the shape incompatibility.\"\"\"\n",
    "\n",
    "arr1 = np.array([[1, 2, 3], [4, 5, 6]])\n",
    "arr2 = np.array([[7, 8], [9, 10]])\n",
    "\n",
    "#maching the array shape\n",
    "arr1_re = arr1[:, :, np.newaxis]  \n",
    "arr2_re = arr2[:, np.newaxis, :]  \n",
    "\n",
    "result = arr1_re * arr2_re\n",
    "\n",
    "result"
   ]
  },
  {
   "cell_type": "code",
   "execution_count": 11,
   "metadata": {},
   "outputs": [
    {
     "data": {
      "text/plain": [
       "array([2.5, 3.5, 4.5])"
      ]
     },
     "execution_count": 11,
     "metadata": {},
     "output_type": "execute_result"
    }
   ],
   "source": [
    "#41. Calculate column wise mean for the given array:\n",
    "\n",
    "arr = np.array([[1, 2, 3], [4, 5, 6]])\n",
    "\n",
    "c_mean = np.mean(arr, axis=0)\n",
    "\n",
    "c_mean"
   ]
  },
  {
   "cell_type": "code",
   "execution_count": 12,
   "metadata": {},
   "outputs": [
    {
     "data": {
      "text/plain": [
       "array([3, 6])"
      ]
     },
     "execution_count": 12,
     "metadata": {},
     "output_type": "execute_result"
    }
   ],
   "source": [
    "#42. Find maximum value in each row of the given array:\n",
    "\n",
    "arr = np.array([[1, 2, 3], [4, 5, 6]])\n",
    "\n",
    "r_max = np.max(arr, axis=1)\n",
    "\n",
    "r_max"
   ]
  },
  {
   "cell_type": "code",
   "execution_count": 15,
   "metadata": {},
   "outputs": [
    {
     "data": {
      "text/plain": [
       "array([1, 1, 1], dtype=int64)"
      ]
     },
     "execution_count": 15,
     "metadata": {},
     "output_type": "execute_result"
    }
   ],
   "source": [
    "#43. For the given array, find indices of maximum value in each column.\n",
    "\n",
    "arr = np.array([[1, 2, 3], [4, 5, 6]])\n",
    "\n",
    "col_max_indices = np.argmax(arr, axis=0)\n",
    "\n",
    "col_max_indices"
   ]
  },
  {
   "cell_type": "code",
   "execution_count": 20,
   "metadata": {},
   "outputs": [
    {
     "data": {
      "text/plain": [
       "array([[ 6.],\n",
       "       [15.]])"
      ]
     },
     "execution_count": 20,
     "metadata": {},
     "output_type": "execute_result"
    }
   ],
   "source": [
    "#44. For the given array, apply custom function to calculate moving sum along rows.\n",
    "\n",
    "arr = np.array([[1, 2, 3], [4, 5, 6]])\n",
    "\n",
    "def moving_sum(arr, window_size):\n",
    "    result = np.convolve(arr, np.ones(window_size), 'valid')\n",
    "    return result\n",
    "\n",
    "window_size = 3\n",
    "moving = np.apply_along_axis(moving_sum, axis=1, arr=arr, window_size=window_size)\n",
    "\n",
    "moving"
   ]
  },
  {
   "cell_type": "code",
   "execution_count": 24,
   "metadata": {},
   "outputs": [
    {
     "data": {
      "text/plain": [
       "array([False, False, False])"
      ]
     },
     "execution_count": 24,
     "metadata": {},
     "output_type": "execute_result"
    }
   ],
   "source": [
    "#45. In the given array, check if all elements in each column are even.\n",
    "\n",
    "arr = np.array([[2, 4, 6], [3, 5, 7]])\n",
    "\n",
    "all_even = np.all(arr % 2 == 0, axis=0)\n",
    "\n",
    "all_even"
   ]
  },
  {
   "cell_type": "code",
   "execution_count": 29,
   "metadata": {},
   "outputs": [
    {
     "data": {
      "text/plain": [
       "array([[1, 2, 3],\n",
       "       [4, 5, 6]])"
      ]
     },
     "execution_count": 29,
     "metadata": {},
     "output_type": "execute_result"
    }
   ],
   "source": [
    "#46. Given a NumPy array arr, reshape it into a matrix of dimensions `m` rows and `n` columns. Return the reshaped matrix.\n",
    "\n",
    "oa = np.array([1, 2, 3, 4, 5, 6])\n",
    "\n",
    "def reshape_array(arr, m, n):\n",
    "    rm = np.reshape(arr, (m, n))\n",
    "    return rm\n",
    "\n",
    "m = 2\n",
    "n = 3\n",
    "\n",
    "reshaped = reshape_array(oa, m, n)\n",
    "\n",
    "reshaped "
   ]
  },
  {
   "cell_type": "code",
   "execution_count": 30,
   "metadata": {},
   "outputs": [
    {
     "data": {
      "text/plain": [
       "array([1, 2, 3, 4, 5, 6])"
      ]
     },
     "execution_count": 30,
     "metadata": {},
     "output_type": "execute_result"
    }
   ],
   "source": [
    "#47. Create a function that takes a matrix as input and returns the flattened array.\n",
    "\n",
    "input_matrix = np.array([[1, 2, 3], [4, 5, 6]])\n",
    "\n",
    "def flatten_matrix(input_m):\n",
    "    fa = input_m.flatten()\n",
    "    return fa\n",
    "\n",
    "flattened_a = flatten_matrix(input_matrix)\n",
    "\n",
    "flattened_a"
   ]
  },
  {
   "cell_type": "code",
   "execution_count": 32,
   "metadata": {},
   "outputs": [
    {
     "name": "stdout",
     "output_type": "stream",
     "text": [
      "Concatenated along axis 0:\n",
      " [[1 2]\n",
      " [3 4]\n",
      " [5 6]\n",
      " [7 8]]\n",
      "Concatenated along axis 1:\n",
      " [[1 2 5 6]\n",
      " [3 4 7 8]]\n"
     ]
    }
   ],
   "source": [
    "#48. Write a function that concatenates two given arrays along a specified axis.\n",
    "\n",
    "def concatenates_arrays(a1,a2, axis =0):\n",
    "    return np.concatenate((a1,a2), axis= axis)\n",
    " \n",
    "\n",
    "array1 = np.array([[1, 2], [3, 4]])\n",
    "array2 = np.array([[5, 6], [7, 8]])\n",
    "\n",
    "array_axis0 = concatenates_arrays(a1, a2, axis=0)\n",
    "print(\"Concatenated along axis 0:\\n\", array_axis0) # 0\n",
    "\n",
    "array_axis1 = concatenates_arrays(array1, array2, axis=1) #axis 1\n",
    "print(\"Concatenated along axis 1:\\n\", array_axis1)"
   ]
  },
  {
   "cell_type": "code",
   "execution_count": 36,
   "metadata": {},
   "outputs": [
    {
     "name": "stdout",
     "output_type": "stream",
     "text": [
      "array are : \n",
      " [[1]\n",
      " [4]\n",
      " [7]]\n",
      "array are : \n",
      " [[2]\n",
      " [5]\n",
      " [8]]\n",
      "array are : \n",
      " [[3]\n",
      " [6]\n",
      " [9]]\n"
     ]
    }
   ],
   "source": [
    "#49. Create a function that splits an array into multiple sub-arrays along a specified axis.\n",
    "\n",
    "original_array = np.array([[1, 2, 3], [4, 5, 6], [7, 8, 9]])\n",
    "\n",
    "def split_array(original_array, axis, num_splits):\n",
    "    sub_arrays = np.split(original_array, num_splits, axis=axis)\n",
    "    return sub_arrays\n",
    "\n",
    "axis = 1  \n",
    "num_splits = 3\n",
    "\n",
    "sub_arrays = split_array(original_array, axis, num_splits)\n",
    "\n",
    "for i in sub_arrays:\n",
    "    print(\"array are : \\n\", i)\n"
   ]
  },
  {
   "cell_type": "code",
   "execution_count": 40,
   "metadata": {},
   "outputs": [
    {
     "data": {
      "text/plain": [
       "array([ 1, 10, 11,  4,  5])"
      ]
     },
     "execution_count": 40,
     "metadata": {},
     "output_type": "execute_result"
    }
   ],
   "source": [
    "#50. Write a function that inserts and then deletes elements from a given array at specified indices.\n",
    "\n",
    "original_array = np.array([1, 2, 3, 4, 5])\n",
    "indices_to_insert = [2, 4]\n",
    "values_to_insert = [10, 11]\n",
    "indices_to_delete = [1, 3]\n",
    "\n",
    "def insert_and_delete_elements(array, i_insert, v_insert, i_delete):\n",
    "    for idx, val in zip(i_insert, v_insert):\n",
    "        array = np.insert(array, idx, val)\n",
    "    \n",
    "    array = np.delete(array, i_delete)\n",
    "    \n",
    "    return array\n",
    "\n",
    "result_array = insert_and_delete_elements(original_array, indices_to_insert, values_to_insert, indices_to_delete)\n",
    "\n",
    "result_array"
   ]
  },
  {
   "cell_type": "code",
   "execution_count": 19,
   "metadata": {},
   "outputs": [
    {
     "name": "stdout",
     "output_type": "stream",
     "text": [
      "arr1 :\n",
      " [[4 2 1]\n",
      " [9 4 4]\n",
      " [3 5 1]]\n",
      "arr2 :\n",
      " [[1 2 3]\n",
      " [4 5 6]\n",
      " [7 8 9]]\n",
      "element-wise addition result \n",
      ": [[ 5  4  4]\n",
      " [13  9 10]\n",
      " [10 13 10]]\n"
     ]
    }
   ],
   "source": [
    "\"\"\"51. Create a NumPy array `arr1` with random integers and another array `arr2` with integers from 1 to 10. \n",
    "Perform element-wise addition between `arr1` and `arr2`.\"\"\"\n",
    "\n",
    "\n",
    "arr1 = np.random.randint(1,10, size=(3,3))\n",
    "arr2 = np.arange(1, 10).reshape(3, 3)\n",
    "\n",
    "result = arr1 + arr2\n",
    "\n",
    "print(\"arr1 :\\n\",arr1)\n",
    "print(\"arr2 :\\n\",arr2)\n",
    "print(\"element-wise addition result \\n:\", result)\n"
   ]
  },
  {
   "cell_type": "code",
   "execution_count": 20,
   "metadata": {},
   "outputs": [
    {
     "name": "stdout",
     "output_type": "stream",
     "text": [
      "arr1 :\n",
      " [10  9  8  7  6  5  4  3  2  1]\n",
      "arr2 :\n",
      " [ 1  2  3  4  5  6  7  8  9 10]\n",
      "Subtract array is :\n",
      " [ 9  7  5  3  1 -1 -3 -5 -7 -9]\n"
     ]
    }
   ],
   "source": [
    "\"\"\"52. Generate a NumPy array `arr1` with sequential integers from 10 to 1 and another array `arr2` with integers \n",
    "from 1 to 10. Subtract `arr2` from `arr1` element-wise.\"\"\"\n",
    "\n",
    "arr1 = np.arange(10, 0, -1)\n",
    "arr2 = np.arange(1, 11)\n",
    "\n",
    "result = arr1 - arr2\n",
    "\n",
    "print(\"arr1 :\\n\", arr1)\n",
    "print(\"arr2 :\\n\", arr2)\n",
    "print(\"Subtract array is :\\n\", result)"
   ]
  },
  {
   "cell_type": "code",
   "execution_count": 22,
   "metadata": {},
   "outputs": [
    {
     "name": "stdout",
     "output_type": "stream",
     "text": [
      "arr1 :\n",
      " [[6 0 8 7 9]\n",
      " [5 9 6 3 1]\n",
      " [0 8 3 7 6]]\n",
      "arr2 :\n",
      " [1 2 3 4 5]\n",
      "multiply array is :\n",
      " [[ 6  0 24 28 45]\n",
      " [ 5 18 18 12  5]\n",
      " [ 0 16  9 28 30]]\n"
     ]
    }
   ],
   "source": [
    "\"\"\"53. Create a NumPy array `arr1` with random integers and another array `arr2` with integers from 1 to 5. \n",
    "Perform element-wise multiplication between `arr1` and `arr2`.\"\"\"\n",
    "\n",
    "arr1 = np.random.randint(0, 10, size=(3, 5))\n",
    "arr2 = np.arange(1, 6)\n",
    "\n",
    "result = arr1 * arr2\n",
    "\n",
    "print(\"arr1 :\\n\", arr1)\n",
    "print(\"arr2 :\\n\", arr2)\n",
    "print(\"multiply array is :\\n\", result)"
   ]
  },
  {
   "cell_type": "code",
   "execution_count": 23,
   "metadata": {},
   "outputs": [
    {
     "name": "stdout",
     "output_type": "stream",
     "text": [
      "arr1  :\n",
      " [ 2  4  6  8 10]\n",
      "arr2 : \n",
      " [1 2 3 4 5]\n",
      "element-wise division result is : \n",
      " [2. 2. 2. 2. 2.]\n"
     ]
    }
   ],
   "source": [
    "\"\"\"54. Generate a NumPy array `arr1` with even integers from 2 to 10 and another array `arr2` with integers from 1 \n",
    "to 5, Perform element-wise division of `arr1` by `arr2`.\"\"\"\n",
    "\n",
    "arr1 = np.arange(2, 11, 2)\n",
    "arr2 = np.arange(1, 6)\n",
    "\n",
    "result = arr1 / arr2\n",
    "\n",
    "print(\"arr1  :\\n\", arr1)\n",
    "print(\"arr2 : \\n\", arr2)\n",
    "print(\"element-wise division result is : \\n\", result)"
   ]
  },
  {
   "cell_type": "code",
   "execution_count": 24,
   "metadata": {},
   "outputs": [
    {
     "name": "stdout",
     "output_type": "stream",
     "text": [
      "arr1  :\n",
      " [1 2 3 4 5]\n",
      "arr2 : \n",
      " [5 4 3 2 1]\n",
      "raised to the power of `arr2` element-wise : \n",
      " [ 1 16 27 16  5]\n"
     ]
    }
   ],
   "source": [
    "\"\"\"55. Create a NumPy array `arr1` with integers from 1 to 5 and another array `arr2` with the same numbers \n",
    "reversed. Calculate the exponentiation of `arr1` raised to the power of `arr2` element-wise.\"\"\"\n",
    "\n",
    "arr1 = np.arange(1, 6)\n",
    "arr2 = arr1[::-1]\n",
    "\n",
    "result = np.power(arr1, arr2)\n",
    "\n",
    "print(\"arr1  :\\n\", arr1)\n",
    "print(\"arr2 : \\n\", arr2)\n",
    "print(\"raised to the power of `arr2` element-wise : \\n\", result)"
   ]
  },
  {
   "cell_type": "code",
   "execution_count": 25,
   "metadata": {},
   "outputs": [
    {
     "name": "stdout",
     "output_type": "stream",
     "text": [
      "The substring 'hello' occurs 3 times in the array.\n"
     ]
    }
   ],
   "source": [
    "#56. Write a function that counts the occurrences of a specific substring within a NumPy array of strings.\n",
    "\n",
    "arr = np.array(['hello', 'world', 'hello', 'numpy', 'hello'])\n",
    "\n",
    "def csc(arr, substring):\n",
    "    count = np.char.count(arr, substring).sum()\n",
    "    return count\n",
    "\n",
    "substring = 'hello'\n",
    "count = csc(arr, substring)\n",
    "\n",
    "print(f\"The substring '{substring}' occurs {count} times in the array.\")"
   ]
  },
  {
   "cell_type": "code",
   "execution_count": 28,
   "metadata": {},
   "outputs": [
    {
     "name": "stdout",
     "output_type": "stream",
     "text": [
      "extracts uppercase characters is :\n",
      " ['H' 'W' 'OAI' 'GPT']\n"
     ]
    }
   ],
   "source": [
    "#57. Write a function that extracts uppercase characters from a NumPy array of strings.\n",
    "\n",
    "arr = np.array(['Hello', 'World', 'OpenAI', 'GPT'])\n",
    "\n",
    "def extract_uppercase(arr):\n",
    "    joined_strings = ''.join(arr)\n",
    "    uppercase_chars = ''.join([char for char in joined_strings if char.isupper()])\n",
    "    return uppercase_chars\n",
    "\n",
    "print(\"extracts uppercase characters is :\\n\",result)"
   ]
  },
  {
   "cell_type": "code",
   "execution_count": 29,
   "metadata": {},
   "outputs": [
    {
     "data": {
      "text/plain": [
       "array(['orange', 'banana', 'grape', 'pineorange'], dtype='<U10')"
      ]
     },
     "execution_count": 29,
     "metadata": {},
     "output_type": "execute_result"
    }
   ],
   "source": [
    "#58. Write a function that replaces occurrences of a substring in a NumPy array of strings with a new string.\n",
    "\n",
    "arr = np.array(['apple', 'banana', 'grape', 'pineapple'])\n",
    "\n",
    "def replace_substring(arr, old_substring, new_substring):\n",
    "    # Use np.char.replace to replace occurrences of old_substring with new_substring\n",
    "    replaced_arr = np.char.replace(arr, old_substring, new_substring)\n",
    "    return replaced_arr\n",
    "\n",
    "old_substring = 'apple'\n",
    "new_substring = 'orange'\n",
    "\n",
    "replaced_arr = replace_substring(arr, old_substring, new_substring)\n",
    "\n",
    "replaced_arr"
   ]
  },
  {
   "cell_type": "code",
   "execution_count": 30,
   "metadata": {},
   "outputs": [
    {
     "name": "stdout",
     "output_type": "stream",
     "text": [
      "Array 1:\n",
      " ['Hello' 'World']\n",
      "\n",
      "Array 2:\n",
      " ['Open' 'AI']\n",
      "\n",
      "Array after concatenation:\n",
      " ['HelloOpen' 'WorldAI']\n"
     ]
    }
   ],
   "source": [
    "#59. Write a function that concatenates strings in a NumPy array element-wise.\n",
    "\n",
    "arr1 = np.array(['Hello', 'World'])\n",
    "arr2 = np.array(['Open', 'AI'])\n",
    "\n",
    "def concatenate_strings(arr1, arr2):\n",
    "    concatenated_arr = np.char.add(arr1, arr2)\n",
    "    return concatenated_arr\n",
    "\n",
    "concatenated_arr = concatenate_strings(arr1, arr2)\n",
    "\n",
    "print(\"Array 1:\\n\",arr1)\n",
    "print(\"\\nArray 2:\\n\", arr2)\n",
    "print(\"\\nArray after concatenation:\\n\",concatenated_arr)\n"
   ]
  },
  {
   "cell_type": "code",
   "execution_count": 31,
   "metadata": {},
   "outputs": [
    {
     "name": "stdout",
     "output_type": "stream",
     "text": [
      "Length of the longest string:\n",
      " 9\n"
     ]
    }
   ],
   "source": [
    "#60. Write a function that finds the length of the longest string in a NumPy array.\n",
    "\n",
    "arr = np.array(['apple', 'banana', 'grape', 'pineapple'])\n",
    "\n",
    "def longest_string_length(arr):\n",
    "    lengths = np.vectorize(len)(arr)\n",
    "    return np.max(lengths)\n",
    "\n",
    "longest_length = longest_string_length(arr)\n",
    "\n",
    "print(\"Length of the longest string:\\n\", longest_length)"
   ]
  },
  {
   "cell_type": "code",
   "execution_count": 39,
   "metadata": {},
   "outputs": [
    {
     "name": "stdout",
     "output_type": "stream",
     "text": [
      "dataset : [ 85 479 510 702  61 876 115  59 789 258  59 473 629 654 155 332 385 657\n",
      "  94 771 856 703 750 568 704  38 918 733 759 492 198 544 882 608 466 948\n",
      " 757 605 761 646 391 933 951 584 365 148 686 452 360 669 463 830 484 741\n",
      "  40 120 510 235 846 722 257 205  22 888 318 478 375  38 331 308 156 454\n",
      " 654 822 489  26 183  16 387 519 982 110  58 216 611 847 837 703 427 701\n",
      " 796  29 159 450 577 558 403 653  59 957]\n",
      "\n",
      "mean : 486.68\n",
      "median : 490.5\n",
      "variance :  80211.0576\n",
      "std_deviation : 283.21556736874476\n"
     ]
    }
   ],
   "source": [
    "\"\"\"61. Create a dataset of 100 random integers between 1 and 1000. Compute the mean, median, variance, and \n",
    "standard deviation of the dataset using NumPy's functions.\"\"\"\n",
    "\n",
    "data = np.random.randint(1,1000, size= 100)\n",
    "\n",
    "mean = np.mean(data)\n",
    "median = np.median(data)\n",
    "variance = np.var(data)\n",
    "std_deviation = np.std(data)\n",
    "\n",
    "print(\"dataset :\", data)\n",
    "print(\"\")\n",
    "print(\"mean :\",mean)\n",
    "print(\"median :\", median)\n",
    "print(\"variance : \", variance)\n",
    "print(\"std_deviation :\",std_deviation)"
   ]
  },
  {
   "cell_type": "code",
   "execution_count": 49,
   "metadata": {},
   "outputs": [
    {
     "name": "stdout",
     "output_type": "stream",
     "text": [
      "datset :\n",
      " [95 93 27 15 68 40 82 19 78 68 94 30 32 52  2 34 65  4 46 45 86 66 43 75\n",
      " 61 45 41 99 95 85 63  5 75 62 88 29 69 83 96 40 16  7 83 51 71 76 84  6\n",
      " 59 57]\n",
      "\n",
      "25th percentiles : 35.5\n",
      "75th percentiles : 81.0\n"
     ]
    }
   ],
   "source": [
    "#62. Generate an array of 50 random numbers between 1 and 100. Find the 25th and 75th percentiles of the dataset.\n",
    "\n",
    "data = np.random.randint(1,100, size= 50)\n",
    "\n",
    "a = np.percentile(data, 25)\n",
    "b = np.percentile(data, 75)\n",
    "\n",
    "print(\"datset :\\n\",data)\n",
    "print(\"\")\n",
    "print(\"25th percentiles :\",a)\n",
    "print(\"75th percentiles :\",b)"
   ]
  },
  {
   "cell_type": "code",
   "execution_count": 53,
   "metadata": {},
   "outputs": [
    {
     "name": "stdout",
     "output_type": "stream",
     "text": [
      "1st array [1 2 3 4 5]\n",
      "2nd array [5 4 3 2 1]\n",
      "correlation coefficient is : -0.9999999999999999\n"
     ]
    }
   ],
   "source": [
    "\"\"\"63. Create two arrays representing two sets of variables. Compute the correlation coefficient between these \n",
    "arrays using NumPy's `corrcoef` function.\"\"\"\n",
    "\n",
    "arr1 = np.array([1,2,3,4,5])\n",
    "arr2 = np.array([5,4,3,2,1])\n",
    "\n",
    "corr_coef = np.corrcoef(arr1, arr2)[0,1]\n",
    "\n",
    "print(\"1st array\",arr1)\n",
    "print(\"2nd array\",arr2)\n",
    "print(\"correlation coefficient is :\",corr_coef)"
   ]
  },
  {
   "cell_type": "code",
   "execution_count": 62,
   "metadata": {},
   "outputs": [
    {
     "name": "stdout",
     "output_type": "stream",
     "text": [
      "1st matrix :\n",
      " [[1 2 3 4]\n",
      " [9 9 1 1]]\n",
      "2nd matrix :\n",
      " [[ 1  2]\n",
      " [11 11]\n",
      " [ 5  6]\n",
      " [ 1  2]]\n",
      "matrix multiplication result : [[ 42  50]\n",
      " [114 125]]\n"
     ]
    }
   ],
   "source": [
    "#64. Create two matrices and perform matrix multiplication using NumPy's `dot` function.\n",
    "\n",
    "m1 = np.array([[1,2,3,4],[9,9,1,1]])\n",
    "m2 = np.array([[1,2],[11,11],[5,6],[1,2]])\n",
    "\n",
    "result = np.dot(m1,m2)\n",
    "\n",
    "print(\"1st matrix :\\n\",m1)\n",
    "print(\"2nd matrix :\\n\",m2)\n",
    "print(\"matrix multiplication result :\", result)"
   ]
  },
  {
   "cell_type": "code",
   "execution_count": 70,
   "metadata": {},
   "outputs": [
    {
     "name": "stdout",
     "output_type": "stream",
     "text": [
      "datset :\n",
      " [114 569 918 305 880 819 454 329 129 884 511 384 191 301 963 793  66 184\n",
      " 298 962 790 758 667 526 981  59 962 532 737 320 234 692 586 969 995 795\n",
      " 285 781 703 666 986  68 439 750 309  80 626 122 390 562]\n",
      "\n",
      "10th percentiles : 121.2\n",
      "50th percentiles : 565.5\n",
      "90th percentiles : 962.1\n",
      "\n",
      "1st and 3rd quartiles valu are 995 59\n"
     ]
    }
   ],
   "source": [
    "\"\"\"65. Create an array of 50 integers between 10 and 1000. Calculate the 10th, 50th (median), and 90th \n",
    "percentiles along with the first and third quartiles.\"\"\"\n",
    "\n",
    "data = np.random.randint(10,1000, size= 50)\n",
    "\n",
    "a = np.percentile(data, 10)\n",
    "b = np.percentile(data, 50)\n",
    "c = np.percentile(data,90)\n",
    "d = np.quantile(data,1)\n",
    "e = np.quantile(data,0)\n",
    "\n",
    "print(\"datset :\\n\",data)\n",
    "print(\"\")\n",
    "print(\"10th percentiles :\",a)\n",
    "print(\"50th percentiles :\",b)\n",
    "print(\"90th percentiles :\",c)\n",
    "print(\"\")\n",
    "print(\"1st and 3rd quartiles valu are\",d,e)"
   ]
  },
  {
   "cell_type": "code",
   "execution_count": 76,
   "metadata": {},
   "outputs": [
    {
     "name": "stdout",
     "output_type": "stream",
     "text": [
      "The element 3 is found at index [2]\n"
     ]
    }
   ],
   "source": [
    "#66. Create a NumPy array of integers and find the index of a specific element.\n",
    "\n",
    "array = np.array([1,2,3,4,5])\n",
    "\n",
    "find = 3\n",
    "\n",
    "index = np.where(array == find)\n",
    "\n",
    "if len(index) > 0:\n",
    "    print(f\"The element {find} is found at index {index[0]}\")\n",
    "\n",
    "#only for not found the element\n",
    "else:\n",
    "    print(f\"The element {find} is not found in the array.\")"
   ]
  },
  {
   "cell_type": "code",
   "execution_count": 79,
   "metadata": {},
   "outputs": [
    {
     "name": "stdout",
     "output_type": "stream",
     "text": [
      "original array : [30 80 83 16 39 59 81 67 14 76 15 44 41 28 80 92 32 50 35 13]\n",
      "\n",
      "sorted array : [13 14 15 16 28 30 32 35 39 41 44 50 59 67 76 80 80 81 83 92]\n"
     ]
    }
   ],
   "source": [
    "#67. Generate a random NumPy array and sort it in ascending order.\n",
    "\n",
    "arr = np.random.randint(1,100, size = 20)\n",
    "\n",
    "sorted_array = np.sort(arr)\n",
    "\n",
    "print(\"original array :\", arr)\n",
    "print(\"\")\n",
    "print(\"sorted array :\", sorted_array)"
   ]
  },
  {
   "cell_type": "code",
   "execution_count": 80,
   "metadata": {},
   "outputs": [
    {
     "name": "stdout",
     "output_type": "stream",
     "text": [
      "original array : [12 25  6 42  8 30]\n",
      "filter array is : [25 42 30]\n"
     ]
    }
   ],
   "source": [
    "#68. Filter elements >20  in the given NumPy array.\n",
    "\n",
    "arr = np.array([12, 25, 6, 42, 8, 30])\n",
    "\n",
    "filtered_arr = arr[arr > 20]\n",
    "\n",
    "print(\"original array :\", arr)\n",
    "print(\"filter array is :\", filtered_arr)\n"
   ]
  },
  {
   "cell_type": "code",
   "execution_count": 82,
   "metadata": {},
   "outputs": [
    {
     "name": "stdout",
     "output_type": "stream",
     "text": [
      "original array : [ 1  5  8 12 15]\n",
      "filter array is : [12 15]\n"
     ]
    }
   ],
   "source": [
    "#69. Filter elements which are divisible by 3 from a given NumPy array.\n",
    "\n",
    "arr = np.array([1, 5, 8, 12, 15])\n",
    "\n",
    "filtered_arr = arr[arr % 3 == 0]\n",
    "\n",
    "print(\"original array :\", arr)\n",
    "print(\"filter array is :\", filtered_arr)"
   ]
  },
  {
   "cell_type": "code",
   "execution_count": 85,
   "metadata": {},
   "outputs": [
    {
     "name": "stdout",
     "output_type": "stream",
     "text": [
      "original array : [10 20 30 40 50]\n",
      "filter array is : [20 30 40]\n"
     ]
    }
   ],
   "source": [
    "#70. Filter elements which are ≥ 20 and ≤ 40 from a given NumPy array.\n",
    "\n",
    "arr = np.array([10, 20, 30, 40, 50])\n",
    "\n",
    "filtered_arr =  arr[(arr >= 20) & (arr <= 40)]\n",
    "\n",
    "print(\"original array :\", arr)\n",
    "print(\"filter array is :\", filtered_arr)"
   ]
  },
  {
   "cell_type": "code",
   "execution_count": 86,
   "metadata": {},
   "outputs": [
    {
     "name": "stdout",
     "output_type": "stream",
     "text": [
      "original array : [1 2 3]\n",
      "byte order : =\n"
     ]
    }
   ],
   "source": [
    "#71. For the given NumPy array, check its byte order using the `dtype` attribute byteorder.\n",
    "\n",
    "arr = np.array([1, 2, 3])\n",
    "\n",
    "byte_order = arr.dtype.byteorder\n",
    "\n",
    "print(\"original array :\", arr)\n",
    "print(\"byte order :\", byte_order)"
   ]
  },
  {
   "cell_type": "code",
   "execution_count": 87,
   "metadata": {},
   "outputs": [
    {
     "name": "stdout",
     "output_type": "stream",
     "text": [
      "original array [1 2 3]\n",
      "Array after byte swapping: [16777216 33554432 50331648]\n"
     ]
    }
   ],
   "source": [
    "#72. For the given NumPy array, perform byte swapping in place using `byteswap()`.\n",
    "\n",
    "arr = np.array([1, 2, 3], dtype=np.int32)\n",
    "print(\"original array\", arr)\n",
    "\n",
    "arr.byteswap(True)\n",
    "print(\"Array after byte swapping:\", arr)"
   ]
  },
  {
   "cell_type": "code",
   "execution_count": 88,
   "metadata": {},
   "outputs": [
    {
     "name": "stdout",
     "output_type": "stream",
     "text": [
      "oreginal array [1 2 3]\n",
      "after swapped [16777216 33554432 50331648]\n"
     ]
    }
   ],
   "source": [
    "#73. For the given NumPy array, swap its byte order without modifying the original array using `newbyteorder()`.\n",
    "\n",
    "arr = np.array([1, 2, 3], dtype=np.int32)\n",
    "print(\"oreginal array\", arr)\n",
    "\n",
    "arr_swapped = arr.newbyteorder()\n",
    "print(\"after swapped\", arr_swapped)"
   ]
  },
  {
   "cell_type": "code",
   "execution_count": 93,
   "metadata": {},
   "outputs": [
    {
     "name": "stdout",
     "output_type": "stream",
     "text": [
      "Original array: [1 2 3]\n",
      "\n",
      "Array with swapped byte order based on system endianness: [16777216 33554432 50331648]\n"
     ]
    }
   ],
   "source": [
    "#74. For the given NumPy array and swap its byte order conditionally based on system endianness using `newbyteorder()`.\n",
    "\n",
    "arr = np.array([1, 2, 3], dtype=np.int32)\n",
    "\n",
    "system_byteorder = sys.byteorder\n",
    "\n",
    "if system_byteorder == 'little':\n",
    "    arr_swapped = arr.newbyteorder('big')\n",
    "else:\n",
    "    arr_swapped = arr.newbyteorder('little')\n",
    "\n",
    "print(\"Original array:\", arr)\n",
    "print(\"\\nArray with swapped byte order based on system endianness:\",arr_swapped)"
   ]
  },
  {
   "cell_type": "code",
   "execution_count": 89,
   "metadata": {},
   "outputs": [
    {
     "name": "stdout",
     "output_type": "stream",
     "text": [
      "No byte swapping needed (native byte order)\n"
     ]
    }
   ],
   "source": [
    "#75. For the given NumPy array, check if byte swapping is necessary for the current system using `dtype` attribute `byteorder`.\n",
    "\n",
    "arr = np.array([1, 2, 3], dtype=np.int32)\n",
    "\n",
    "if arr.dtype.byteorder == '=':\n",
    "    print(\"No byte swapping needed (native byte order)\")\n",
    "else:\n",
    "    print(f\"Byte swapping needed from {arr.dtype.byteorder} to {'>' if arr.dtype.byteorder == '<' else '<'}\")"
   ]
  },
  {
   "cell_type": "code",
   "execution_count": 99,
   "metadata": {},
   "outputs": [
    {
     "name": "stdout",
     "output_type": "stream",
     "text": [
      "Original array (arr1): [ 1  2  3  4  5  6  7  8  9 10]\n",
      "\n",
      "Modified copy (copy_arr): [99  2  3  4  5  6  7  8  9 10]\n"
     ]
    }
   ],
   "source": [
    "\"\"\"76. Create a NumPy array `arr1` with values from 1 to 10. Create a copy of `arr1` named `copy_arr` and modify \n",
    "an element in `copy_arr`. Check if modifying `copy_arr` affects `arr1`.\"\"\"\n",
    "\n",
    "arr1 = np.arange(1, 11)\n",
    "\n",
    "copy_arr = arr1.copy()\n",
    "copy_arr[0] = 99\n",
    "\n",
    "print(\"Original array (arr1):\",arr1)\n",
    "print(\"Modified copy (copy_arr):\",copy_arr)"
   ]
  },
  {
   "cell_type": "code",
   "execution_count": 100,
   "metadata": {},
   "outputs": [
    {
     "name": "stdout",
     "output_type": "stream",
     "text": [
      "Original matrix after modifying view_slice: [[ 6  1  3]\n",
      " [ 9 99  3]\n",
      " [ 6  7  7]]\n",
      "\n",
      "View slice: [[99  3]\n",
      " [ 7  7]]\n"
     ]
    }
   ],
   "source": [
    "\"\"\"77. Create a 2D NumPy array `matrix` of shape (3, 3) with random integers. Extract a slice `view_slice` from \n",
    "the matrix. Modify an element in `view_slice` and observe if it changes the original `matrix`.\"\"\"\n",
    "\n",
    "matrix = np.random.randint(0, 10, (3, 3))\n",
    "\n",
    "view_slice = matrix[1:, 1:]\n",
    "\n",
    "view_slice[0, 0] = 99\n",
    "\n",
    "print(\"Original matrix after modifying view_slice:\", matrix)\n",
    "print(\"View slice:\",view_slice)"
   ]
  },
  {
   "cell_type": "code",
   "execution_count": 101,
   "metadata": {},
   "outputs": [
    {
     "name": "stdout",
     "output_type": "stream",
     "text": [
      "Original array (array_a) after modifying view_b: [[ 1  2  3]\n",
      " [ 4 10 11]\n",
      " [ 7 13 14]\n",
      " [10 11 12]]\n",
      "\n",
      "View slice (view_b): [[10 11]\n",
      " [13 14]]\n"
     ]
    }
   ],
   "source": [
    "\"\"\"78. Create a NumPy array `array_a` of shape (4, 3) with sequential integers from 1 to 12. Extract a slice \n",
    "`view_b` from `array_a` and broadcast the addition of 5 to view_b. Check if it alters the original `array_a`.\"\"\"\n",
    "\n",
    "array_a = np.arange(1, 13).reshape(4, 3)\n",
    "\n",
    "view_b = array_a[1:3, 1:3]\n",
    "\n",
    "view_b += 5\n",
    "\n",
    "print(\"Original array (array_a) after modifying view_b:\",array_a)\n",
    "print(\"View slice (view_b):\",view_b)"
   ]
  },
  {
   "cell_type": "code",
   "execution_count": null,
   "metadata": {},
   "outputs": [],
   "source": [
    "\"\"\"79. Create a NumPy array `orig_array` of shape (2, 4) with values from 1 to 8. Create a reshaped view \n",
    "`reshaped_view` of shape (4, 2) from orig_array. Modify an element in `reshaped_view` and check if it \n",
    "reflects changes in the original `orig_array`.\"\"\"\n",
    "\n",
    "orig_array = np.arange(1, 9).reshape(2, 4)\n",
    "\n",
    "reshaped_view = orig_array.reshape(4, 2)\n",
    "\n",
    "reshaped_view[0, 0] = 99\n",
    "\n",
    "print(\"Original array (orig_array) after modifying reshaped_view:\",orig_array)\n",
    "print(\"\\nReshaped view (reshaped_view):\",reshaped_view)"
   ]
  },
  {
   "cell_type": "code",
   "execution_count": 102,
   "metadata": {},
   "outputs": [
    {
     "name": "stdout",
     "output_type": "stream",
     "text": [
      "Original array (data): [[4 3 1 0]\n",
      " [1 3 6 5]\n",
      " [0 5 1 1]]\n",
      "\n",
      "Modified copy of elements greater than 5 (data_copy): [99]\n"
     ]
    }
   ],
   "source": [
    "\"\"\"80. Create a NumPy array `data` of shape (3, 4) with random integers. Extract a copy `data_copy` of \n",
    "elements greater than 5. Modify an element in `data_copy` and verify if it affects the original `data`.\"\"\"\n",
    "\n",
    "data = np.random.randint(0, 10, (3, 4))\n",
    "\n",
    "data_copy = data[data > 5].copy()\n",
    "\n",
    "if data_copy.size > 0: \n",
    "    data_copy[0] = 99\n",
    "\n",
    "print(\"Original array (data):\",data)\n",
    "print(\"\\nModified copy of elements greater than 5 (data_copy):\",data_copy)"
   ]
  },
  {
   "cell_type": "code",
   "execution_count": 98,
   "metadata": {},
   "outputs": [
    {
     "name": "stdout",
     "output_type": "stream",
     "text": [
      "Matrix A: [[1 2 3]\n",
      " [4 5 6]\n",
      " [7 8 9]]\n",
      "\n",
      "Matrix B: [[9 8 7]\n",
      " [6 5 4]\n",
      " [3 2 1]]\n",
      "\n",
      "Result of addition (A + B): [[10 10 10]\n",
      " [10 10 10]\n",
      " [10 10 10]]\n",
      "\n",
      "Result of subtraction (A - B): [[-8 -6 -4]\n",
      " [-2  0  2]\n",
      " [ 4  6  8]]\n"
     ]
    }
   ],
   "source": [
    "#81. Create two matrices A and B of identical shape containing integers and perform addition and subtraction operations between them.\n",
    "\n",
    "A = np.array([[1, 2, 3],\n",
    "              [4, 5, 6],\n",
    "              [7, 8, 9]])\n",
    "B = np.array([[9, 8, 7],\n",
    "              [6, 5, 4],\n",
    "              [3, 2, 1]])\n",
    "\n",
    "addition_result = np.add(A, B)\n",
    "\n",
    "subtraction_result = np.subtract(A, B)\n",
    "\n",
    "print(\"Matrix A:\",A)\n",
    "print(\"\\nMatrix B:\",B)\n",
    "print(\"\\nResult of addition (A + B):\",addition_result)\n",
    "print(\"\\nResult of subtraction (A - B):\",subtraction_result)\n"
   ]
  },
  {
   "cell_type": "code",
   "execution_count": 97,
   "metadata": {},
   "outputs": [
    {
     "name": "stdout",
     "output_type": "stream",
     "text": [
      "Matrix C: [[1 2]\n",
      " [3 4]\n",
      " [5 6]]\n",
      "\n",
      "Matrix D: [[ 7  8  9 10]\n",
      " [11 12 13 14]]\n",
      "\n",
      "Result of matrix multiplication C * D: [[ 29  32  35  38]\n",
      " [ 65  72  79  86]\n",
      " [101 112 123 134]]\n"
     ]
    }
   ],
   "source": [
    "#82. Generate two matrices `C` (3x2) and `D` (2x4) and perform matrix multiplication.\n",
    "\n",
    "C = np.array([[1, 2],\n",
    "              [3, 4],\n",
    "              [5, 6]])\n",
    "\n",
    "D = np.array([[7, 8, 9, 10],\n",
    "              [11, 12, 13, 14]])\n",
    "\n",
    "result = np.dot(C, D)\n",
    "\n",
    "print(\"Matrix C:\",C)\n",
    "print(\"\\nMatrix D:\",D)\n",
    "print(\"\\nResult of matrix multiplication C * D:\",result)\n"
   ]
  },
  {
   "cell_type": "code",
   "execution_count": 96,
   "metadata": {},
   "outputs": [
    {
     "name": "stdout",
     "output_type": "stream",
     "text": [
      "Matrix E: [[1 2 3]\n",
      " [4 5 6]]\n",
      "\n",
      "Transpose of matrix E: [[1 4]\n",
      " [2 5]\n",
      " [3 6]]\n"
     ]
    }
   ],
   "source": [
    "#83. Create a matrix `E` and find its transpose.\n",
    "\n",
    "E = np.array([[1, 2, 3],\n",
    "              [4, 5, 6]])\n",
    "\n",
    "E_transpose = E.T\n",
    "\n",
    "print(\"Matrix E:\", E)\n",
    "print(\"\\nTranspose of matrix E:\",E_transpose)"
   ]
  },
  {
   "cell_type": "code",
   "execution_count": 95,
   "metadata": {},
   "outputs": [
    {
     "name": "stdout",
     "output_type": "stream",
     "text": [
      "Matrix F: [[1 2 3]\n",
      " [4 5 6]\n",
      " [7 8 9]]\n",
      "\n",
      "Determinant of matrix F: 0.0\n"
     ]
    }
   ],
   "source": [
    "#84. Generate a square matrix `F` and compute its determinant.\n",
    "\n",
    "F = np.array([[1, 2, 3],\n",
    "              [4, 5, 6],\n",
    "              [7, 8, 9]])\n",
    "\n",
    "det_F = np.linalg.det(F)\n",
    "\n",
    "print(\"Matrix F:\",F)\n",
    "print(\"\\nDeterminant of matrix F:\", det_F)"
   ]
  },
  {
   "cell_type": "code",
   "execution_count": 94,
   "metadata": {},
   "outputs": [
    {
     "name": "stdout",
     "output_type": "stream",
     "text": [
      "Matrix G: [[ 1  2  3]\n",
      " [ 4  5  6]\n",
      " [ 7  8 10]]\n",
      "\n",
      "Inverse of matrix G: [[-0.66666667 -1.33333333  1.        ]\n",
      " [-0.66666667  3.66666667 -2.        ]\n",
      " [ 1.         -2.          1.        ]]\n"
     ]
    }
   ],
   "source": [
    "#85. Create a square matrix `G` and find its inverse.\n",
    "\n",
    "G = np.array([[1, 2, 3],\n",
    "              [4, 5, 6],\n",
    "              [7, 8, 10]])\n",
    "\n",
    "G_inv = np.linalg.inv(G)\n",
    "\n",
    "print(\"Matrix G:\", G)\n",
    "print(\"\\nInverse of matrix G:\",G_inv)"
   ]
  }
 ],
 "metadata": {
  "kernelspec": {
   "display_name": "Python 3",
   "language": "python",
   "name": "python3"
  },
  "language_info": {
   "codemirror_mode": {
    "name": "ipython",
    "version": 3
   },
   "file_extension": ".py",
   "mimetype": "text/x-python",
   "name": "python",
   "nbconvert_exporter": "python",
   "pygments_lexer": "ipython3",
   "version": "3.12.4"
  }
 },
 "nbformat": 4,
 "nbformat_minor": 2
}
