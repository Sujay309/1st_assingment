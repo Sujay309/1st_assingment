{
 "cells": [
  {
   "cell_type": "markdown",
   "metadata": {},
   "source": [
    "NUMPY assingment"
   ]
  },
  {
   "cell_type": "code",
   "execution_count": 2,
   "metadata": {},
   "outputs": [],
   "source": [
    "import numpy as np\n",
    "import pandas as pd"
   ]
  },
  {
   "cell_type": "code",
   "execution_count": 2,
   "metadata": {},
   "outputs": [
    {
     "data": {
      "text/plain": [
       "(numpy.ndarray, array([1, 2, 3, 4, 5]))"
      ]
     },
     "execution_count": 2,
     "metadata": {},
     "output_type": "execute_result"
    }
   ],
   "source": [
    "#1. Create a NumPy array 'arr' of integers from 0 to 5 and print its data type.\n",
    "arr1= np.array([1,2,3,4,5])\n",
    "type(arr1), arr1"
   ]
  },
  {
   "cell_type": "code",
   "execution_count": 3,
   "metadata": {},
   "outputs": [
    {
     "data": {
      "text/plain": [
       "numpy.float64"
      ]
     },
     "execution_count": 3,
     "metadata": {},
     "output_type": "execute_result"
    }
   ],
   "source": [
    "#2. Given a NumPy array 'arr', check if its data type is float64.\n",
    "arr = np.array([1.5, 2.6, 3.7])\n",
    "type(arr[0])"
   ]
  },
  {
   "cell_type": "code",
   "execution_count": 4,
   "metadata": {},
   "outputs": [
    {
     "data": {
      "text/plain": [
       "numpy.complex128"
      ]
     },
     "execution_count": 4,
     "metadata": {},
     "output_type": "execute_result"
    }
   ],
   "source": [
    "#3. Create a NumPy array 'arr' with a data type of complex128 containing three complex numbers.\n",
    "\n",
    "arr = np.array([2+3j, 4+2j, 3+7j], dtype=np.complex128)\n",
    "type(arr[1])\n"
   ]
  },
  {
   "cell_type": "code",
   "execution_count": 5,
   "metadata": {},
   "outputs": [
    {
     "data": {
      "text/plain": [
       "numpy.float32"
      ]
     },
     "execution_count": 5,
     "metadata": {},
     "output_type": "execute_result"
    }
   ],
   "source": [
    "#4. Convert an existing NumPy array 'arr' of integers to float32 data type.\n",
    "\n",
    "arr1= np.array([1,2,3,4,5], dtype=np.float32)\n",
    "type(arr1[1])"
   ]
  },
  {
   "cell_type": "code",
   "execution_count": 6,
   "metadata": {},
   "outputs": [
    {
     "data": {
      "text/plain": [
       "numpy.float32"
      ]
     },
     "execution_count": 6,
     "metadata": {},
     "output_type": "execute_result"
    }
   ],
   "source": [
    "#5. Given a NumPy array 'arr' with float64 data type, convert it to float32 to reduce decimal precision.\n",
    "\n",
    "arr = np.array([1.5, 2.6, 3.7], dtype=np.float32)\n",
    "type(arr[1])"
   ]
  },
  {
   "cell_type": "code",
   "execution_count": 7,
   "metadata": {},
   "outputs": [
    {
     "name": "stdout",
     "output_type": "stream",
     "text": [
      "{'shape': (2, 2), 'size': 4, 'dtype': dtype('int32')}\n"
     ]
    }
   ],
   "source": [
    "#6. Write a function array_attributes that takes a NumPy array as input and returns its shape, size, and data type.\n",
    "\n",
    "def array_attributes(arr):\n",
    "    attributes = {\n",
    "        'shape': arr.shape,\n",
    "        'size': arr.size,\n",
    "        'dtype': arr.dtype\n",
    "    }\n",
    "    return attributes\n",
    "\n",
    "arr = np.array([[1, 2], [3, 4]])\n",
    "print(array_attributes(arr))"
   ]
  },
  {
   "cell_type": "code",
   "execution_count": 8,
   "metadata": {},
   "outputs": [
    {
     "name": "stdout",
     "output_type": "stream",
     "text": [
      "The Array dimension is: 3\n"
     ]
    }
   ],
   "source": [
    "#7. Create a function array_dimension that takes a NumPy array as input and returns its dimensionality.\n",
    "\n",
    "def array_dimension(arr):\n",
    "    dimension = arr.ndim\n",
    "    return f\"The Array dimension is: {dimension}\"\n",
    "\n",
    "\n",
    "arr = np.array([[[1, 2], [3, 4]]])\n",
    "print(array_dimension(arr))"
   ]
  },
  {
   "cell_type": "code",
   "execution_count": 9,
   "metadata": {},
   "outputs": [
    {
     "name": "stdout",
     "output_type": "stream",
     "text": [
      "{'shape': (2, 2), 'size': 4, 'dtype': dtype('int32')}\n"
     ]
    }
   ],
   "source": [
    "#8. Design a function item_size_info that takes a NumPy array as input and returns the item size and the total size in bytes.\n",
    "\n",
    "def item_size_info(arr):\n",
    "    attributes = {\n",
    "        'item': arr.item,\n",
    "        'size': arr.size,\n",
    "        'info': arr.info\n",
    "    }\n",
    "    return attributes\n",
    "\n",
    "arr = np.array([[1, 2], [3, 4]])\n",
    "print(array_attributes(arr))"
   ]
  },
  {
   "cell_type": "code",
   "execution_count": 10,
   "metadata": {},
   "outputs": [
    {
     "name": "stdout",
     "output_type": "stream",
     "text": [
      "(8, 4)\n"
     ]
    }
   ],
   "source": [
    "#9. Create a function array_strides that takes a NumPy array as input and returns the strides of the array.\n",
    "\n",
    "def array_strides(arr):\n",
    "    return arr.strides\n",
    "\n",
    "arr = np.array([[1, 2], [3, 4]])\n",
    "print(array_strides(arr))"
   ]
  },
  {
   "cell_type": "code",
   "execution_count": 11,
   "metadata": {},
   "outputs": [
    {
     "name": "stdout",
     "output_type": "stream",
     "text": [
      "{'shape': (2, 2), 'strides': (8, 4)}\n"
     ]
    }
   ],
   "source": [
    "#10. Design a function shape_stride_relationship that takes a NumPy array as input and returns the shape and strides of the array.\n",
    "\n",
    "def shape_stride_relationship(arr):\n",
    "    return {\n",
    "        'shape': arr.shape,\n",
    "        'strides': arr.strides\n",
    "    }\n",
    "\n",
    "arr = np.array([[1, 2], [3, 4]])\n",
    "print(shape_stride_relationship(arr))"
   ]
  },
  {
   "cell_type": "code",
   "execution_count": 3,
   "metadata": {},
   "outputs": [
    {
     "name": "stdout",
     "output_type": "stream",
     "text": [
      "[0. 0. 0. 0. 0. 0. 0. 0. 0. 0.]\n"
     ]
    }
   ],
   "source": [
    "#11. Create a function `create_zeros_array` that takes an integer `n` as input and returns a NumPy array of zeros with `n` elements.\n",
    "\n",
    "def create_zeros_array(n):\n",
    "    return np.zeros(n)\n",
    "\n",
    "n = 10\n",
    "print(create_zeros_array(n))\n"
   ]
  },
  {
   "cell_type": "code",
   "execution_count": 4,
   "metadata": {},
   "outputs": [
    {
     "name": "stdout",
     "output_type": "stream",
     "text": [
      "[[1. 1. 1. 1.]\n",
      " [1. 1. 1. 1.]\n",
      " [1. 1. 1. 1.]]\n"
     ]
    }
   ],
   "source": [
    "#12. Write a function `create_ones_matrix` that takes integers `rows` and `cols` as inputs and generates a 2D \n",
    "#NumPy array filled with ones of size `rows x cols`.\n",
    "\n",
    "def create_ones_matrix(r,c):\n",
    "    return np.ones((r,c))\n",
    "\n",
    "r = 3\n",
    "c = 4\n",
    "print(create_ones_matrix(r,c))\n"
   ]
  },
  {
   "cell_type": "code",
   "execution_count": 14,
   "metadata": {},
   "outputs": [
    {
     "name": "stdout",
     "output_type": "stream",
     "text": [
      "[ 1  6 11 16 21 26 31 36 41 46 51 56 61 66 71 76 81 86 91 96]\n"
     ]
    }
   ],
   "source": [
    "#13. Write a function `generate_range_array` that takes three integers start, stop, and step as arguments and \n",
    "#creates a NumPy array with a range starting from `start`, ending at stop (exclusive), and with the specified `step`.\n",
    "\n",
    "def generate_range_array(start , stop, step):\n",
    "    return np.arange(start , stop, step)\n",
    "\n",
    "start = 1\n",
    "stop = 100\n",
    "step = 5\n",
    "\n",
    "print(generate_range_array(start , stop, step))"
   ]
  },
  {
   "cell_type": "code",
   "execution_count": 16,
   "metadata": {},
   "outputs": [
    {
     "name": "stdout",
     "output_type": "stream",
     "text": [
      "[0.   1.25 2.5  3.75 5.  ]\n"
     ]
    }
   ],
   "source": [
    "#14. Design a function `generate_linear_space` that takes two floats `start`, `stop`, and an integer `num` as \n",
    "#arguments and generates a NumPy array with num equally spaced values between `start` and `stop` (inclusive).\n",
    "\n",
    "def generate_linear_space(start, stop, num):\n",
    "    return np.linspace(start, stop, num)\n",
    "\n",
    "start = 0.0\n",
    "stop = 5.0\n",
    "num = 5\n",
    "linear_space = generate_linear_space(start, stop, num)\n",
    "print(linear_space)"
   ]
  },
  {
   "cell_type": "code",
   "execution_count": 17,
   "metadata": {},
   "outputs": [
    {
     "name": "stdout",
     "output_type": "stream",
     "text": [
      "[[1. 0. 0. 0.]\n",
      " [0. 1. 0. 0.]\n",
      " [0. 0. 1. 0.]\n",
      " [0. 0. 0. 1.]]\n"
     ]
    }
   ],
   "source": [
    "#15. Create a function `create_identity_matrix` that takes an integer `n` as input and generates a square \n",
    "#identity matrix of size `n x n` using `numpy.eye`.\n",
    "\n",
    "def create_identity_matrix(n):\n",
    "    return np.eye(n)\n",
    "\n",
    "n = 4\n",
    "identity_matrix = create_identity_matrix(n)\n",
    "print(identity_matrix)"
   ]
  },
  {
   "cell_type": "code",
   "execution_count": 19,
   "metadata": {},
   "outputs": [
    {
     "name": "stdout",
     "output_type": "stream",
     "text": [
      "<class 'numpy.ndarray'>\n"
     ]
    }
   ],
   "source": [
    "#16. Write a function that takes a Python list and converts it into a NumPy array.\n",
    "\n",
    "def numpy_array(a):\n",
    "    return np.array(a)\n",
    "\n",
    "a = [1, 2, 3, 4, 5]\n",
    "array1 = numpy_array(a)\n",
    "print(type(array1))\n"
   ]
  },
  {
   "cell_type": "code",
   "execution_count": 20,
   "metadata": {},
   "outputs": [
    {
     "name": "stdout",
     "output_type": "stream",
     "text": [
      "Original Array: [1 2 3 4 5]\n",
      "New Array View: [1 2 3 4 5]\n"
     ]
    }
   ],
   "source": [
    "#17. Create a NumPy array and demonstrate the use of `numpy.view` to create a new array object with the same data.\n",
    "\n",
    "normal_array = np.array([1,2,3,4,5])\n",
    "new_array_view = normal_array.view()\n",
    "\n",
    "print(\"Original Array:\", normal_array)\n",
    "print(\"New Array View:\", new_array_view)"
   ]
  },
  {
   "cell_type": "code",
   "execution_count": 23,
   "metadata": {},
   "outputs": [
    {
     "name": "stdout",
     "output_type": "stream",
     "text": [
      "Concatenated along axis 0:\n",
      " [[1 2]\n",
      " [3 4]\n",
      " [5 6]\n",
      " [7 8]]\n",
      "Concatenated along axis 1:\n",
      " [[1 2 5 6]\n",
      " [3 4 7 8]]\n"
     ]
    }
   ],
   "source": [
    "#18. Write a function that takes two NumPy arrays and concatenates them along a specified axis.\n",
    "\n",
    "def concatenates_arrays(a1,a2, axis =0):\n",
    "    return np.concatenate((a1,a2), axis= axis)\n",
    "\n",
    "a1 = np.array([[1, 2], [3, 4]])\n",
    "a2 = np.array([[5, 6], [7, 8]])\n",
    "\n",
    "array_axis0 = concatenates_arrays(a1, a2, axis=0)\n",
    "print(\"Concatenated along axis 0:\\n\", array_axis0)\n",
    "\n",
    "array_axis1 = concatenates_arrays(a1, a2, axis=1)\n",
    "print(\"Concatenated along axis 1:\\n\", array_axis1)\n"
   ]
  },
  {
   "cell_type": "code",
   "execution_count": 24,
   "metadata": {},
   "outputs": [
    {
     "name": "stdout",
     "output_type": "stream",
     "text": [
      "Array 1:\n",
      " [[1 2 3]\n",
      " [4 5 6]]\n",
      "Array 2:\n",
      " [[7]\n",
      " [8]]\n",
      "Concatenated Array:\n",
      " [[1 2 3 7]\n",
      " [4 5 6 8]]\n"
     ]
    }
   ],
   "source": [
    "#19. Create two NumPy arrays with different shapes and concatenate them horizontally using `numpy.concatenate`.\n",
    "\n",
    "a1 = np.array([[1, 2, 3], [4, 5, 6]])  \n",
    "a2 = np.array([[7], [8]])              \n",
    "\n",
    "concatenated_array = np.concatenate((a1, a2), axis=1)\n",
    "\n",
    "print(\"Array 1:\\n\", a1)\n",
    "print(\"Array 2:\\n\", a2)\n",
    "print(\"Concatenated Array:\\n\", concatenated_array)\n"
   ]
  },
  {
   "cell_type": "code",
   "execution_count": 25,
   "metadata": {},
   "outputs": [
    {
     "name": "stdout",
     "output_type": "stream",
     "text": [
      "Vertically Stacked Array:\n",
      " [[1 2 3]\n",
      " [4 5 6]\n",
      " [7 8 9]]\n"
     ]
    }
   ],
   "source": [
    "#20. Write a function that vertically stacks multiple NumPy arrays given as a list.\n",
    "\n",
    "def vertical_stack(arrays):\n",
    "    return np.vstack(arrays)\n",
    "\n",
    "a1 = np.array([[1, 2, 3]])\n",
    "a2 = np.array([[4, 5, 6]])\n",
    "a3 = np.array([[7, 8, 9]])\n",
    "\n",
    "stacked_array = vertical_stack([a1, a2, a3])\n",
    "\n",
    "print(\"Vertically Stacked Array:\\n\", stacked_array)\n"
   ]
  },
  {
   "cell_type": "code",
   "execution_count": 26,
   "metadata": {},
   "outputs": [
    {
     "name": "stdout",
     "output_type": "stream",
     "text": [
      "Integer Range Array: [ 0  4  8 12 16 20]\n"
     ]
    }
   ],
   "source": [
    "\"\"\"21. Write a Python function using NumPy to create an array of integers within a specified range (inclusive) \n",
    "with a given step size.\"\"\"\n",
    "\n",
    "def create_integer_range(start, stop, step):\n",
    "    return np.arange(start, stop + 1, step)\n",
    "\n",
    "start = 0\n",
    "stop = 20\n",
    "step = 4\n",
    "integer_range_array = create_integer_range(start, stop, step)\n",
    "print(\"Integer Range Array:\", integer_range_array)\n"
   ]
  },
  {
   "cell_type": "code",
   "execution_count": 27,
   "metadata": {},
   "outputs": [
    {
     "name": "stdout",
     "output_type": "stream",
     "text": [
      "Equally Spaced Values: [0.         0.11111111 0.22222222 0.33333333 0.44444444 0.55555556\n",
      " 0.66666667 0.77777778 0.88888889 1.        ]\n"
     ]
    }
   ],
   "source": [
    "#22. Write a Python function using NumPy to generate an array of 10 equally spaced values between 0 and 1 (inclusive).\n",
    "\n",
    "def g_e_s_v():\n",
    "    return np.linspace(0, 1, 10)\n",
    "\n",
    "equally_spaced_values = g_e_s_v()\n",
    "print(\"Equally Spaced Values:\", equally_spaced_values)"
   ]
  },
  {
   "cell_type": "code",
   "execution_count": 31,
   "metadata": {},
   "outputs": [
    {
     "name": "stdout",
     "output_type": "stream",
     "text": [
      "Logarithmically Spaced Values: [   1.            5.62341325   31.6227766   177.827941   1000.        ]\n"
     ]
    }
   ],
   "source": [
    "\n",
    "#23. Write a Python function using NumPy to create an array of 5 logarithmically spaced values between 1 and 1000 (inclusive).\n",
    "\n",
    "def glsv():\n",
    "    return np.logspace(0,3,5)\n",
    "\n",
    "lsv = glsv()\n",
    "print(\"Logarithmically Spaced Values:\", lsv)\n"
   ]
  },
  {
   "cell_type": "code",
   "execution_count": 33,
   "metadata": {},
   "outputs": [
    {
     "name": "stdout",
     "output_type": "stream",
     "text": [
      "Pandas DataFrame:\n",
      "   Column1  Column2  Column3\n",
      "0       38       96       49\n",
      "1       76       13       61\n",
      "2       39       41       35\n",
      "3       46       36        7\n",
      "4       83       71        1\n"
     ]
    }
   ],
   "source": [
    "\"\"\"24. Create a Pandas DataFrame using a NumPy array that contains 5 rows and 3 columns, where the values \n",
    "are random integers between 1 and 100.\"\"\"\n",
    "\n",
    "data_array = np.random.randint(1, 101, size=(5, 3))\n",
    "df = pd.DataFrame(data_array, columns=['Column1', 'Column2', 'Column3'])\n",
    "\n",
    "print(\"Pandas DataFrame:\")\n",
    "print(df)\n"
   ]
  },
  {
   "cell_type": "code",
   "execution_count": 41,
   "metadata": {},
   "outputs": [
    {
     "name": "stdout",
     "output_type": "stream",
     "text": [
      "Original DataFrame:\n",
      "    A   B\n",
      "0  1  10\n",
      "1 -2  20\n",
      "2  3 -30\n",
      "3 -4  40\n",
      "4  5 -50\n",
      "\n",
      "DataFrame with Negative Values Replaced by Zeros:\n",
      "    A   B\n",
      "0  1  10\n",
      "1 -2  20\n",
      "2  3   0\n",
      "3 -4  40\n",
      "4  5   0\n"
     ]
    }
   ],
   "source": [
    "\"\"\"25. Write a function that takes a Pandas DataFrame and replaces all negative values in a specific column \n",
    "with zeros. Use NumPy operations within the Pandas DataFrame.\"\"\"\n",
    "\n",
    "def replace_negatives_with_zeros(df, column_name):\n",
    "    df[column_name] = np.where(df[column_name] < 0, 0, df[column_name])\n",
    "    return df\n",
    "\n",
    "data = {'A': [1, -2, 3, -4, 5],'B': [10, 20, -30, 40, -50]}\n",
    "df = pd.DataFrame(data)\n",
    "\n",
    "print(\"Original DataFrame:\\n\",(df))\n",
    "\n",
    "df_modified = replace_negatives_with_zeros(df, 'B')\n",
    "\n",
    "print(\"\\nDataFrame with Negative Values Replaced by Zeros:\\n\",(df_modified))"
   ]
  },
  {
   "cell_type": "code",
   "execution_count": 42,
   "metadata": {},
   "outputs": [
    {
     "name": "stdout",
     "output_type": "stream",
     "text": [
      "40\n"
     ]
    }
   ],
   "source": [
    "#26. Access the 3rd element from the given NumPy array.\n",
    "\n",
    "arr = np.array([10, 20, 30, 40, 50])\n",
    "\n",
    "print(arr[3])"
   ]
  },
  {
   "cell_type": "code",
   "execution_count": 45,
   "metadata": {},
   "outputs": [
    {
     "name": "stdout",
     "output_type": "stream",
     "text": [
      "Element at index (1, 2): 6\n"
     ]
    }
   ],
   "source": [
    "#27. Retrieve the element at index (1, 2) from the 2D NumPy array.\n",
    "\n",
    "arr_2d = np.array([\n",
    "    [1, 2, 3],\n",
    "    [4, 5, 6],\n",
    "    [7, 8, 9]])\n",
    "\n",
    "element_12 = arr_2d[1, 2]\n",
    "\n",
    "print(\"Element at index (1, 2):\", element_12)\n"
   ]
  },
  {
   "cell_type": "code",
   "execution_count": 51,
   "metadata": {},
   "outputs": [
    {
     "name": "stdout",
     "output_type": "stream",
     "text": [
      "elements greater than 5 is : [ 8 10  7]\n"
     ]
    }
   ],
   "source": [
    "#28. Using boolean indexing, extract elements greater than 5 from the given NumPy array.\n",
    "\n",
    "arr = np.array([3, 8, 2, 10, 5, 7])\n",
    "\n",
    "mask = arr > 5 \n",
    "\n",
    "elements_greater_than_5 = arr[mask]\n",
    "print(\"elements greater than 5 is :\",elements_greater_than_5)"
   ]
  },
  {
   "cell_type": "code",
   "execution_count": 54,
   "metadata": {},
   "outputs": [
    {
     "data": {
      "text/plain": [
       "array([3, 4, 5])"
      ]
     },
     "execution_count": 54,
     "metadata": {},
     "output_type": "execute_result"
    }
   ],
   "source": [
    "#29. Perform basic slicing to extract elements from index 2 to 5 (inclusive) from the given NumPy array.\n",
    "\n",
    "arr = np.array([1, 2, 3, 4, 5, 6, 7, 8, 9])\n",
    "\n",
    "slicing_arr1 = arr[2:5]\n",
    "slicing_arr1"
   ]
  },
  {
   "cell_type": "code",
   "execution_count": 76,
   "metadata": {},
   "outputs": [
    {
     "data": {
      "text/plain": [
       "array([[2, 3],\n",
       "       [5, 6]])"
      ]
     },
     "execution_count": 76,
     "metadata": {},
     "output_type": "execute_result"
    }
   ],
   "source": [
    "#30. Slice the 2D NumPy array to extract the sub-array `[[2, 3], [5, 6]]` from the given array.\n",
    "\n",
    "arr_2d = np.array([[1, 2, 3],\n",
    "                   [4, 5, 6],\n",
    "                   [7, 8, 9]])\n",
    "\n",
    "sub_array = arr_2d[0:2,1:3]\n",
    "\n",
    "sub_array"
   ]
  },
  {
   "cell_type": "code",
   "execution_count": 78,
   "metadata": {},
   "outputs": [
    {
     "data": {
      "text/plain": [
       "array([2, 5, 8])"
      ]
     },
     "execution_count": 78,
     "metadata": {},
     "output_type": "execute_result"
    }
   ],
   "source": [
    "#31.Write a NumPy function to extract elements in specific order from a given 2D array based on indices provided in another array.\n",
    "\n",
    "#function\n",
    "def extract_elements_by_indices(arr_2d, indices):\n",
    "    flat_arr = arr_2d.flatten()\n",
    "    extracted_elements = flat_arr[indices]\n",
    "    return extracted_elements\n",
    "\n",
    "#inputs\n",
    "arr_2d = np.array([[1, 2, 3],\n",
    "                   [4, 5, 6],\n",
    "                   [7, 8, 9],])\n",
    "\n",
    "indices = np.array([1, 4, 7])\n",
    "\n",
    "#function coll\n",
    "extracted_elements = extract_elements_by_indices(arr_2d, indices)\n",
    "\n",
    "#result\n",
    "extracted_elements"
   ]
  },
  {
   "cell_type": "code",
   "execution_count": 81,
   "metadata": {},
   "outputs": [
    {
     "data": {
      "text/plain": [
       "array([34, 56, 23, 78, 90])"
      ]
     },
     "execution_count": 81,
     "metadata": {},
     "output_type": "execute_result"
    }
   ],
   "source": [
    "#32. Create a NumPy function that filters elements greater than a threshold from a given 1D array using boolean indexing.\n",
    "\n",
    "#function\n",
    "def filters_elements_greater_than_a_threshold(arr,threshold):\n",
    "     mask = arr > threshold\n",
    "     filtered_array = arr[mask]\n",
    "     return filtered_array\n",
    "\n",
    "#inputs\n",
    "arr = np.array([1,2,3,4,5,6,7,8,9,11,34,56,23,78,90])\n",
    "threshold = 20\n",
    "\n",
    "#function call\n",
    "filters_elements = filters_elements_greater_than_a_threshold(arr,threshold)\n",
    "\n",
    "#result\n",
    "filters_elements"
   ]
  },
  {
   "cell_type": "code",
   "execution_count": 93,
   "metadata": {},
   "outputs": [
    {
     "data": {
      "text/plain": [
       "array([ 6, 11])"
      ]
     },
     "execution_count": 93,
     "metadata": {},
     "output_type": "execute_result"
    }
   ],
   "source": [
    "#33. Develop a NumPy function that extracts specific elements from a 3D array using indices provided in three separate arrays for each dimension.\n",
    "\n",
    "#function\n",
    "def extract_elements_3d(arr_3d, d1, d2, d3):\n",
    "    extracted_elements = arr_3d[d1, d2, d3]\n",
    "    return extracted_elements\n",
    "\n",
    "#input\n",
    "arr_3d = np.array([[[1, 2, 3],\n",
    "                    [4, 5, 6]],\n",
    "                   \n",
    "                    [[7, 8, 9],\n",
    "                    [10, 11, 12]]])\n",
    "\n",
    "d1 = np.array([0,1])\n",
    "d2 = np.array([1,1])\n",
    "d3 = np.array([2,1])\n",
    "\n",
    "#function call\n",
    "extract_elements = extract_elements_3d(arr_3d, d1, d2, d3)\n",
    "\n",
    "#result\n",
    "extract_elements"
   ]
  },
  {
   "cell_type": "code",
   "execution_count": 99,
   "metadata": {},
   "outputs": [
    {
     "data": {
      "text/plain": [
       "array([11, 22, 33, 44])"
      ]
     },
     "execution_count": 99,
     "metadata": {},
     "output_type": "execute_result"
    }
   ],
   "source": [
    "#34. Write a NumPy function that returns elements from an array where both two conditions are satisfied using boolean indexing.\n",
    "\n",
    "#function\n",
    "def filter_with_conditions(arr, con1, con2):\n",
    "    filtered_elements = arr[np.logical_and(con1, con2)]\n",
    "    return filtered_elements\n",
    "\n",
    "#input\n",
    "arr = np.array([11,22,33,44,55,66,77,88,99])\n",
    "con1 = arr < 50\n",
    "con2 =  arr / 11\n",
    "\n",
    "#function call\n",
    "satisfied_condition_element = filter_with_conditions(arr, con1, con2)\n",
    "\n",
    "#result\n",
    "satisfied_condition_element"
   ]
  },
  {
   "cell_type": "code",
   "execution_count": 100,
   "metadata": {},
   "outputs": [
    {
     "data": {
      "text/plain": [
       "array([2, 6, 7])"
      ]
     },
     "execution_count": 100,
     "metadata": {},
     "output_type": "execute_result"
    }
   ],
   "source": [
    "#35. Create a NumPy function that extracts elements from a 2D array using row and column indices provided in separate arrays.\n",
    "\n",
    "#function\n",
    "def e_e(arr_2d, row, col):\n",
    "    extracted_elements = arr_2d[row , col]\n",
    "    return extracted_elements\n",
    "\n",
    "# inputs\n",
    "arr_2d = np.array([[1, 2, 3],[4, 5, 6],[7, 8, 9]])\n",
    "\n",
    "row = np.array([0, 1, 2])\n",
    "col = np.array([1, 2, 0])\n",
    "\n",
    "#function coll\n",
    "the_elements = e_e(arr_2d, row, col)\n",
    "\n",
    "#result\n",
    "the_elements"
   ]
  },
  {
   "cell_type": "code",
   "execution_count": 104,
   "metadata": {},
   "outputs": [
    {
     "name": "stdout",
     "output_type": "stream",
     "text": [
      "original array : \n",
      " [[1 2 3]\n",
      " [4 5 6]\n",
      " [7 8 9]]\n",
      "broadcasting arry : \n",
      " [[ 6  7  8]\n",
      " [ 9 10 11]\n",
      " [12 13 14]]\n"
     ]
    }
   ],
   "source": [
    "#36. Given an array arr of shape (3, 3), add a scalar value of 5 to each element using NumPy broadcasting.\n",
    "\n",
    "arr = np.array([[1, 2, 3],[4, 5, 6],[7, 8, 9]])\n",
    "\n",
    "result = arr + 5\n",
    "\n",
    "print(\"original array : \\n\", arr)\n",
    "print(\"broadcasting arry : \\n\", result)"
   ]
  },
  {
   "cell_type": "code",
   "execution_count": null,
   "metadata": {},
   "outputs": [],
   "source": [
    "\"\"\"37. Consider two arrays arr1 of shape (1, 3) and arr2 of shape (3, 4). Multiply each row of arr2 by the \n",
    "corresponding element in arr1 using NumPy broadcasting.\"\"\"\n"
   ]
  },
  {
   "cell_type": "code",
   "execution_count": null,
   "metadata": {},
   "outputs": [],
   "source": [
    "#38. Given a 1D array arr1 of shape (1, 4) and a 2D array arr2 of shape (4, 3), add arr1 to each row of arr2 using NumPy broadcasting.\n"
   ]
  },
  {
   "cell_type": "code",
   "execution_count": null,
   "metadata": {},
   "outputs": [],
   "source": [
    "#39. Consider two arrays arr1 of shape (3, 1) and arr2 of shape (1, 3). Add these arrays using NumPy broadcasting.\n"
   ]
  },
  {
   "cell_type": "code",
   "execution_count": null,
   "metadata": {},
   "outputs": [],
   "source": [
    "\"\"\"40. Given arrays arr1 of shape (2, 3) and arr2 of shape (2, 2), perform multiplication using NumPy \n",
    "broadcasting. Handle the shape incompatibility.\"\"\""
   ]
  }
 ],
 "metadata": {
  "kernelspec": {
   "display_name": "Python 3",
   "language": "python",
   "name": "python3"
  },
  "language_info": {
   "codemirror_mode": {
    "name": "ipython",
    "version": 3
   },
   "file_extension": ".py",
   "mimetype": "text/x-python",
   "name": "python",
   "nbconvert_exporter": "python",
   "pygments_lexer": "ipython3",
   "version": "3.12.4"
  }
 },
 "nbformat": 4,
 "nbformat_minor": 2
}
