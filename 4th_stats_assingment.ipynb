{
 "cells": [
  {
   "cell_type": "markdown",
   "metadata": {},
   "source": [
    "Statistics assingment"
   ]
  },
  {
   "cell_type": "code",
   "execution_count": 1,
   "metadata": {},
   "outputs": [],
   "source": [
    "import pandas as pd \n",
    "import numpy as np\n",
    "import seaborn as sns\n",
    "import statistics as st\n",
    "import math as m\n",
    "from statsmodels.stats.weightstats import ztest\n",
    "import scipy.stats as stats\n",
    "from scipy.stats import chi2"
   ]
  },
  {
   "cell_type": "code",
   "execution_count": 25,
   "metadata": {},
   "outputs": [
    {
     "name": "stdout",
     "output_type": "stream",
     "text": [
      "Mean: 109.75\n",
      "Median: 109.5\n",
      "Mode: 98\n",
      "Weighted Mean: 110.09341113099079\n",
      "Geometric Mean: 109.2104008699321\n",
      "Harmonic Mean: 108.66857444149227\n",
      "Midrange: 109.5\n",
      "Trimmed Mean (10%): 109.775\n"
     ]
    }
   ],
   "source": [
    "# 1\n",
    "\n",
    "int_list = np.random.randint(90,130,100)\n",
    "weights = np.random.rand(100)\n",
    "\n",
    "# (i) Mean\n",
    "def calculate_mean(numbers):\n",
    "    return np.mean(numbers)\n",
    "\n",
    "print(\"Mean:\", calculate_mean(int_list))\n",
    "\n",
    "# (i) Median\n",
    "def calculate_median(numbers):\n",
    "    return np.median(numbers)\n",
    "\n",
    "print(\"Median:\", calculate_median(int_list))\n",
    "\n",
    "# (ii) Mode\n",
    "def calculate_mode(numbers):\n",
    "    mode_result = st.mode(numbers)\n",
    "    return mode_result\n",
    "\n",
    "print(\"Mode:\", calculate_mode(int_list))\n",
    "\n",
    "# (iii) Weighted Mean\n",
    "def calculate_weighted_mean(values, weights):\n",
    "    return np.average(values, weights=weights)\n",
    "\n",
    "print(\"Weighted Mean:\", calculate_weighted_mean(int_list, weights))\n",
    "\n",
    "# (iv) Geometric Mean\n",
    "def calculate_geometric_mean(numbers):\n",
    "    return stats.gmean(numbers)\n",
    "\n",
    "print(\"Geometric Mean:\", calculate_geometric_mean(int_list))\n",
    "\n",
    "# (v) Harmonic Mean\n",
    "def calculate_harmonic_mean(numbers):\n",
    "    return stats.hmean(numbers)\n",
    "\n",
    "print(\"Harmonic Mean:\", calculate_harmonic_mean(int_list))\n",
    "\n",
    "# (vi) Midrange\n",
    "def calculate_midrange(numbers):\n",
    "    return (np.min(numbers) + np.max(numbers)) / 2\n",
    "\n",
    "print(\"Midrange:\", calculate_midrange(int_list))\n",
    "\n",
    "# (vii) Trimmed Mean\n",
    "def calculate_trimmed_mean(numbers, proportion_to_cut):\n",
    "    return stats.trim_mean(numbers, proportion_to_cut)\n",
    "\n",
    "print(\"Trimmed Mean (10%):\", calculate_trimmed_mean(int_list, 0.1))\n"
   ]
  }
 ],
 "metadata": {
  "kernelspec": {
   "display_name": "Python 3",
   "language": "python",
   "name": "python3"
  },
  "language_info": {
   "codemirror_mode": {
    "name": "ipython",
    "version": 3
   },
   "file_extension": ".py",
   "mimetype": "text/x-python",
   "name": "python",
   "nbconvert_exporter": "python",
   "pygments_lexer": "ipython3",
   "version": "3.12.4"
  }
 },
 "nbformat": 4,
 "nbformat_minor": 2
}
